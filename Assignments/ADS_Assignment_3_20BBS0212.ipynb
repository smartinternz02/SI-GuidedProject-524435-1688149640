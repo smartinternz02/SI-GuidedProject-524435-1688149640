{
 "cells": [
  {
   "cell_type": "code",
   "execution_count": 1,
   "id": "edf1cf9d",
   "metadata": {},
   "outputs": [],
   "source": [
    "import numpy as np\n",
    "import pandas as pd\n",
    "import matplotlib.pyplot as plt\n",
    "import seaborn as sns\n",
    "from sklearn.preprocessing import LabelEncoder\n",
    "from sklearn.preprocessing import StandardScaler\n",
    "from sklearn.preprocessing import MinMaxScaler\n",
    "from sklearn.model_selection import train_test_split\n",
    "from sklearn.linear_model import Ridge, Lasso, LinearRegression\n",
    "from sklearn import metrics"
   ]
  },
  {
   "cell_type": "code",
   "execution_count": 2,
   "id": "5f7a3a6b",
   "metadata": {},
   "outputs": [],
   "source": [
    "df=pd.read_csv(\"Housing.csv\")"
   ]
  },
  {
   "cell_type": "code",
   "execution_count": 3,
   "id": "b440663e",
   "metadata": {},
   "outputs": [
    {
     "data": {
      "text/html": [
       "<div>\n",
       "<style scoped>\n",
       "    .dataframe tbody tr th:only-of-type {\n",
       "        vertical-align: middle;\n",
       "    }\n",
       "\n",
       "    .dataframe tbody tr th {\n",
       "        vertical-align: top;\n",
       "    }\n",
       "\n",
       "    .dataframe thead th {\n",
       "        text-align: right;\n",
       "    }\n",
       "</style>\n",
       "<table border=\"1\" class=\"dataframe\">\n",
       "  <thead>\n",
       "    <tr style=\"text-align: right;\">\n",
       "      <th></th>\n",
       "      <th>price</th>\n",
       "      <th>area</th>\n",
       "      <th>bedrooms</th>\n",
       "      <th>bathrooms</th>\n",
       "      <th>stories</th>\n",
       "      <th>mainroad</th>\n",
       "      <th>guestroom</th>\n",
       "      <th>basement</th>\n",
       "      <th>hotwaterheating</th>\n",
       "      <th>airconditioning</th>\n",
       "      <th>parking</th>\n",
       "      <th>furnishingstatus</th>\n",
       "    </tr>\n",
       "  </thead>\n",
       "  <tbody>\n",
       "    <tr>\n",
       "      <th>0</th>\n",
       "      <td>13300000</td>\n",
       "      <td>7420</td>\n",
       "      <td>4</td>\n",
       "      <td>2</td>\n",
       "      <td>3</td>\n",
       "      <td>yes</td>\n",
       "      <td>no</td>\n",
       "      <td>no</td>\n",
       "      <td>no</td>\n",
       "      <td>yes</td>\n",
       "      <td>2</td>\n",
       "      <td>furnished</td>\n",
       "    </tr>\n",
       "    <tr>\n",
       "      <th>1</th>\n",
       "      <td>12250000</td>\n",
       "      <td>8960</td>\n",
       "      <td>4</td>\n",
       "      <td>4</td>\n",
       "      <td>4</td>\n",
       "      <td>yes</td>\n",
       "      <td>no</td>\n",
       "      <td>no</td>\n",
       "      <td>no</td>\n",
       "      <td>yes</td>\n",
       "      <td>3</td>\n",
       "      <td>furnished</td>\n",
       "    </tr>\n",
       "    <tr>\n",
       "      <th>2</th>\n",
       "      <td>12250000</td>\n",
       "      <td>9960</td>\n",
       "      <td>3</td>\n",
       "      <td>2</td>\n",
       "      <td>2</td>\n",
       "      <td>yes</td>\n",
       "      <td>no</td>\n",
       "      <td>yes</td>\n",
       "      <td>no</td>\n",
       "      <td>no</td>\n",
       "      <td>2</td>\n",
       "      <td>semi-furnished</td>\n",
       "    </tr>\n",
       "    <tr>\n",
       "      <th>3</th>\n",
       "      <td>12215000</td>\n",
       "      <td>7500</td>\n",
       "      <td>4</td>\n",
       "      <td>2</td>\n",
       "      <td>2</td>\n",
       "      <td>yes</td>\n",
       "      <td>no</td>\n",
       "      <td>yes</td>\n",
       "      <td>no</td>\n",
       "      <td>yes</td>\n",
       "      <td>3</td>\n",
       "      <td>furnished</td>\n",
       "    </tr>\n",
       "    <tr>\n",
       "      <th>4</th>\n",
       "      <td>11410000</td>\n",
       "      <td>7420</td>\n",
       "      <td>4</td>\n",
       "      <td>1</td>\n",
       "      <td>2</td>\n",
       "      <td>yes</td>\n",
       "      <td>yes</td>\n",
       "      <td>yes</td>\n",
       "      <td>no</td>\n",
       "      <td>yes</td>\n",
       "      <td>2</td>\n",
       "      <td>furnished</td>\n",
       "    </tr>\n",
       "    <tr>\n",
       "      <th>5</th>\n",
       "      <td>10850000</td>\n",
       "      <td>7500</td>\n",
       "      <td>3</td>\n",
       "      <td>3</td>\n",
       "      <td>1</td>\n",
       "      <td>yes</td>\n",
       "      <td>no</td>\n",
       "      <td>yes</td>\n",
       "      <td>no</td>\n",
       "      <td>yes</td>\n",
       "      <td>2</td>\n",
       "      <td>semi-furnished</td>\n",
       "    </tr>\n",
       "    <tr>\n",
       "      <th>6</th>\n",
       "      <td>10150000</td>\n",
       "      <td>8580</td>\n",
       "      <td>4</td>\n",
       "      <td>3</td>\n",
       "      <td>4</td>\n",
       "      <td>yes</td>\n",
       "      <td>no</td>\n",
       "      <td>no</td>\n",
       "      <td>no</td>\n",
       "      <td>yes</td>\n",
       "      <td>2</td>\n",
       "      <td>semi-furnished</td>\n",
       "    </tr>\n",
       "    <tr>\n",
       "      <th>7</th>\n",
       "      <td>10150000</td>\n",
       "      <td>16200</td>\n",
       "      <td>5</td>\n",
       "      <td>3</td>\n",
       "      <td>2</td>\n",
       "      <td>yes</td>\n",
       "      <td>no</td>\n",
       "      <td>no</td>\n",
       "      <td>no</td>\n",
       "      <td>no</td>\n",
       "      <td>0</td>\n",
       "      <td>unfurnished</td>\n",
       "    </tr>\n",
       "    <tr>\n",
       "      <th>8</th>\n",
       "      <td>9870000</td>\n",
       "      <td>8100</td>\n",
       "      <td>4</td>\n",
       "      <td>1</td>\n",
       "      <td>2</td>\n",
       "      <td>yes</td>\n",
       "      <td>yes</td>\n",
       "      <td>yes</td>\n",
       "      <td>no</td>\n",
       "      <td>yes</td>\n",
       "      <td>2</td>\n",
       "      <td>furnished</td>\n",
       "    </tr>\n",
       "    <tr>\n",
       "      <th>9</th>\n",
       "      <td>9800000</td>\n",
       "      <td>5750</td>\n",
       "      <td>3</td>\n",
       "      <td>2</td>\n",
       "      <td>4</td>\n",
       "      <td>yes</td>\n",
       "      <td>yes</td>\n",
       "      <td>no</td>\n",
       "      <td>no</td>\n",
       "      <td>yes</td>\n",
       "      <td>1</td>\n",
       "      <td>unfurnished</td>\n",
       "    </tr>\n",
       "  </tbody>\n",
       "</table>\n",
       "</div>"
      ],
      "text/plain": [
       "      price   area  bedrooms  bathrooms  stories mainroad guestroom basement   \n",
       "0  13300000   7420         4          2        3      yes        no       no  \\\n",
       "1  12250000   8960         4          4        4      yes        no       no   \n",
       "2  12250000   9960         3          2        2      yes        no      yes   \n",
       "3  12215000   7500         4          2        2      yes        no      yes   \n",
       "4  11410000   7420         4          1        2      yes       yes      yes   \n",
       "5  10850000   7500         3          3        1      yes        no      yes   \n",
       "6  10150000   8580         4          3        4      yes        no       no   \n",
       "7  10150000  16200         5          3        2      yes        no       no   \n",
       "8   9870000   8100         4          1        2      yes       yes      yes   \n",
       "9   9800000   5750         3          2        4      yes       yes       no   \n",
       "\n",
       "  hotwaterheating airconditioning  parking furnishingstatus  \n",
       "0              no             yes        2        furnished  \n",
       "1              no             yes        3        furnished  \n",
       "2              no              no        2   semi-furnished  \n",
       "3              no             yes        3        furnished  \n",
       "4              no             yes        2        furnished  \n",
       "5              no             yes        2   semi-furnished  \n",
       "6              no             yes        2   semi-furnished  \n",
       "7              no              no        0      unfurnished  \n",
       "8              no             yes        2        furnished  \n",
       "9              no             yes        1      unfurnished  "
      ]
     },
     "execution_count": 3,
     "metadata": {},
     "output_type": "execute_result"
    }
   ],
   "source": [
    "df.head(10)"
   ]
  },
  {
   "cell_type": "code",
   "execution_count": 4,
   "id": "7cf1081a",
   "metadata": {},
   "outputs": [
    {
     "data": {
      "text/html": [
       "<div>\n",
       "<style scoped>\n",
       "    .dataframe tbody tr th:only-of-type {\n",
       "        vertical-align: middle;\n",
       "    }\n",
       "\n",
       "    .dataframe tbody tr th {\n",
       "        vertical-align: top;\n",
       "    }\n",
       "\n",
       "    .dataframe thead th {\n",
       "        text-align: right;\n",
       "    }\n",
       "</style>\n",
       "<table border=\"1\" class=\"dataframe\">\n",
       "  <thead>\n",
       "    <tr style=\"text-align: right;\">\n",
       "      <th></th>\n",
       "      <th>price</th>\n",
       "      <th>area</th>\n",
       "      <th>bedrooms</th>\n",
       "      <th>bathrooms</th>\n",
       "      <th>stories</th>\n",
       "      <th>mainroad</th>\n",
       "      <th>guestroom</th>\n",
       "      <th>basement</th>\n",
       "      <th>hotwaterheating</th>\n",
       "      <th>airconditioning</th>\n",
       "      <th>parking</th>\n",
       "      <th>furnishingstatus</th>\n",
       "    </tr>\n",
       "  </thead>\n",
       "  <tbody>\n",
       "    <tr>\n",
       "      <th>535</th>\n",
       "      <td>2100000</td>\n",
       "      <td>3360</td>\n",
       "      <td>2</td>\n",
       "      <td>1</td>\n",
       "      <td>1</td>\n",
       "      <td>yes</td>\n",
       "      <td>no</td>\n",
       "      <td>no</td>\n",
       "      <td>no</td>\n",
       "      <td>no</td>\n",
       "      <td>1</td>\n",
       "      <td>unfurnished</td>\n",
       "    </tr>\n",
       "    <tr>\n",
       "      <th>536</th>\n",
       "      <td>1960000</td>\n",
       "      <td>3420</td>\n",
       "      <td>5</td>\n",
       "      <td>1</td>\n",
       "      <td>2</td>\n",
       "      <td>no</td>\n",
       "      <td>no</td>\n",
       "      <td>no</td>\n",
       "      <td>no</td>\n",
       "      <td>no</td>\n",
       "      <td>0</td>\n",
       "      <td>unfurnished</td>\n",
       "    </tr>\n",
       "    <tr>\n",
       "      <th>537</th>\n",
       "      <td>1890000</td>\n",
       "      <td>1700</td>\n",
       "      <td>3</td>\n",
       "      <td>1</td>\n",
       "      <td>2</td>\n",
       "      <td>yes</td>\n",
       "      <td>no</td>\n",
       "      <td>no</td>\n",
       "      <td>no</td>\n",
       "      <td>no</td>\n",
       "      <td>0</td>\n",
       "      <td>unfurnished</td>\n",
       "    </tr>\n",
       "    <tr>\n",
       "      <th>538</th>\n",
       "      <td>1890000</td>\n",
       "      <td>3649</td>\n",
       "      <td>2</td>\n",
       "      <td>1</td>\n",
       "      <td>1</td>\n",
       "      <td>yes</td>\n",
       "      <td>no</td>\n",
       "      <td>no</td>\n",
       "      <td>no</td>\n",
       "      <td>no</td>\n",
       "      <td>0</td>\n",
       "      <td>unfurnished</td>\n",
       "    </tr>\n",
       "    <tr>\n",
       "      <th>539</th>\n",
       "      <td>1855000</td>\n",
       "      <td>2990</td>\n",
       "      <td>2</td>\n",
       "      <td>1</td>\n",
       "      <td>1</td>\n",
       "      <td>no</td>\n",
       "      <td>no</td>\n",
       "      <td>no</td>\n",
       "      <td>no</td>\n",
       "      <td>no</td>\n",
       "      <td>1</td>\n",
       "      <td>unfurnished</td>\n",
       "    </tr>\n",
       "    <tr>\n",
       "      <th>540</th>\n",
       "      <td>1820000</td>\n",
       "      <td>3000</td>\n",
       "      <td>2</td>\n",
       "      <td>1</td>\n",
       "      <td>1</td>\n",
       "      <td>yes</td>\n",
       "      <td>no</td>\n",
       "      <td>yes</td>\n",
       "      <td>no</td>\n",
       "      <td>no</td>\n",
       "      <td>2</td>\n",
       "      <td>unfurnished</td>\n",
       "    </tr>\n",
       "    <tr>\n",
       "      <th>541</th>\n",
       "      <td>1767150</td>\n",
       "      <td>2400</td>\n",
       "      <td>3</td>\n",
       "      <td>1</td>\n",
       "      <td>1</td>\n",
       "      <td>no</td>\n",
       "      <td>no</td>\n",
       "      <td>no</td>\n",
       "      <td>no</td>\n",
       "      <td>no</td>\n",
       "      <td>0</td>\n",
       "      <td>semi-furnished</td>\n",
       "    </tr>\n",
       "    <tr>\n",
       "      <th>542</th>\n",
       "      <td>1750000</td>\n",
       "      <td>3620</td>\n",
       "      <td>2</td>\n",
       "      <td>1</td>\n",
       "      <td>1</td>\n",
       "      <td>yes</td>\n",
       "      <td>no</td>\n",
       "      <td>no</td>\n",
       "      <td>no</td>\n",
       "      <td>no</td>\n",
       "      <td>0</td>\n",
       "      <td>unfurnished</td>\n",
       "    </tr>\n",
       "    <tr>\n",
       "      <th>543</th>\n",
       "      <td>1750000</td>\n",
       "      <td>2910</td>\n",
       "      <td>3</td>\n",
       "      <td>1</td>\n",
       "      <td>1</td>\n",
       "      <td>no</td>\n",
       "      <td>no</td>\n",
       "      <td>no</td>\n",
       "      <td>no</td>\n",
       "      <td>no</td>\n",
       "      <td>0</td>\n",
       "      <td>furnished</td>\n",
       "    </tr>\n",
       "    <tr>\n",
       "      <th>544</th>\n",
       "      <td>1750000</td>\n",
       "      <td>3850</td>\n",
       "      <td>3</td>\n",
       "      <td>1</td>\n",
       "      <td>2</td>\n",
       "      <td>yes</td>\n",
       "      <td>no</td>\n",
       "      <td>no</td>\n",
       "      <td>no</td>\n",
       "      <td>no</td>\n",
       "      <td>0</td>\n",
       "      <td>unfurnished</td>\n",
       "    </tr>\n",
       "  </tbody>\n",
       "</table>\n",
       "</div>"
      ],
      "text/plain": [
       "       price  area  bedrooms  bathrooms  stories mainroad guestroom basement   \n",
       "535  2100000  3360         2          1        1      yes        no       no  \\\n",
       "536  1960000  3420         5          1        2       no        no       no   \n",
       "537  1890000  1700         3          1        2      yes        no       no   \n",
       "538  1890000  3649         2          1        1      yes        no       no   \n",
       "539  1855000  2990         2          1        1       no        no       no   \n",
       "540  1820000  3000         2          1        1      yes        no      yes   \n",
       "541  1767150  2400         3          1        1       no        no       no   \n",
       "542  1750000  3620         2          1        1      yes        no       no   \n",
       "543  1750000  2910         3          1        1       no        no       no   \n",
       "544  1750000  3850         3          1        2      yes        no       no   \n",
       "\n",
       "    hotwaterheating airconditioning  parking furnishingstatus  \n",
       "535              no              no        1      unfurnished  \n",
       "536              no              no        0      unfurnished  \n",
       "537              no              no        0      unfurnished  \n",
       "538              no              no        0      unfurnished  \n",
       "539              no              no        1      unfurnished  \n",
       "540              no              no        2      unfurnished  \n",
       "541              no              no        0   semi-furnished  \n",
       "542              no              no        0      unfurnished  \n",
       "543              no              no        0        furnished  \n",
       "544              no              no        0      unfurnished  "
      ]
     },
     "execution_count": 4,
     "metadata": {},
     "output_type": "execute_result"
    }
   ],
   "source": [
    "df.tail(10)"
   ]
  },
  {
   "cell_type": "code",
   "execution_count": 5,
   "id": "0e639165",
   "metadata": {},
   "outputs": [
    {
     "data": {
      "text/plain": [
       "(545, 12)"
      ]
     },
     "execution_count": 5,
     "metadata": {},
     "output_type": "execute_result"
    }
   ],
   "source": [
    "df.shape"
   ]
  },
  {
   "cell_type": "markdown",
   "id": "9eca2a0d",
   "metadata": {},
   "source": [
    "# 3. Visualization"
   ]
  },
  {
   "cell_type": "markdown",
   "id": "eb06ec1e",
   "metadata": {},
   "source": [
    "### 1. Univariate"
   ]
  },
  {
   "cell_type": "code",
   "execution_count": 6,
   "id": "efcd5b37",
   "metadata": {},
   "outputs": [
    {
     "name": "stderr",
     "output_type": "stream",
     "text": [
      "C:\\Users\\HP\\AppData\\Local\\Temp\\ipykernel_12524\\1879734815.py:1: UserWarning: \n",
      "\n",
      "`distplot` is a deprecated function and will be removed in seaborn v0.14.0.\n",
      "\n",
      "Please adapt your code to use either `displot` (a figure-level function with\n",
      "similar flexibility) or `histplot` (an axes-level function for histograms).\n",
      "\n",
      "For a guide to updating your code to use the new functions, please see\n",
      "https://gist.github.com/mwaskom/de44147ed2974457ad6372750bbe5751\n",
      "\n",
      "  sns.distplot(df['area'])\n"
     ]
    },
    {
     "data": {
      "text/plain": [
       "Text(0.5, 1.0, 'Area distribution plot')"
      ]
     },
     "execution_count": 6,
     "metadata": {},
     "output_type": "execute_result"
    },
    {
     "data": {
      "image/png": "[encoded data removed]",
      "text/plain": [
       "<Figure size 640x480 with 1 Axes>"
      ]
     },
     "metadata": {},
     "output_type": "display_data"
    }
   ],
   "source": [
    "sns.distplot(df['area'])\n",
    "plt.xlabel(\"Area\")\n",
    "plt.title(\"Area distribution plot\")"
   ]
  },
  {
   "cell_type": "code",
   "execution_count": 7,
   "id": "1e0f1c29",
   "metadata": {},
   "outputs": [
    {
     "data": {
      "text/plain": [
       "mainroad\n",
       "yes    468\n",
       "no      77\n",
       "Name: count, dtype: int64"
      ]
     },
     "execution_count": 7,
     "metadata": {},
     "output_type": "execute_result"
    }
   ],
   "source": [
    "df['mainroad'].value_counts()"
   ]
  },
  {
   "cell_type": "code",
   "execution_count": 8,
   "id": "9add4684",
   "metadata": {},
   "outputs": [
    {
     "data": {
      "text/plain": [
       "Text(0.5, 1.0, 'Houses which have mainroads or not.')"
      ]
     },
     "execution_count": 8,
     "metadata": {},
     "output_type": "execute_result"
    },
    {
     "data": {
      "image/png": "[encoded data removed]",
      "text/plain": [
       "<Figure size 640x480 with 1 Axes>"
      ]
     },
     "metadata": {},
     "output_type": "display_data"
    }
   ],
   "source": [
    "plt.pie(df['mainroad'].value_counts(),labels=[\"Yes\",\"No\"])\n",
    "plt.title(\"Houses which have mainroads or not.\")"
   ]
  },
  {
   "cell_type": "code",
   "execution_count": 9,
   "id": "6e49fc55",
   "metadata": {},
   "outputs": [
    {
     "data": {
      "text/plain": [
       "Text(0.5, 1.0, 'Distribution of building stories')"
      ]
     },
     "execution_count": 9,
     "metadata": {},
     "output_type": "execute_result"
    },
    {
     "data": {
      "image/png": "[encoded data removed]",
      "text/plain": [
       "<Figure size 640x480 with 1 Axes>"
      ]
     },
     "metadata": {},
     "output_type": "display_data"
    }
   ],
   "source": [
    "plt.hist(df['stories'])\n",
    "plt.xlabel(\"Types of stories\")\n",
    "plt.ylabel(\"Count of stories\")\n",
    "plt.title(\"Distribution of building stories\")"
   ]
  },
  {
   "cell_type": "markdown",
   "id": "2e3110fd",
   "metadata": {},
   "source": [
    "### 2. Bivariate"
   ]
  },
  {
   "cell_type": "code",
   "execution_count": 10,
   "id": "ee564448",
   "metadata": {},
   "outputs": [
    {
     "data": {
      "text/plain": [
       "<Axes: xlabel='furnishingstatus', ylabel='area'>"
      ]
     },
     "execution_count": 10,
     "metadata": {},
     "output_type": "execute_result"
    },
    {
     "data": {
      "image/png": "[encoded data removed]",
      "text/plain": [
       "<Figure size 640x480 with 1 Axes>"
      ]
     },
     "metadata": {},
     "output_type": "display_data"
    }
   ],
   "source": [
    "sns.barplot(data=df,x='furnishingstatus',y='area')"
   ]
  },
  {
   "cell_type": "code",
   "execution_count": 11,
   "id": "935e305d",
   "metadata": {},
   "outputs": [
    {
     "data": {
      "text/plain": [
       "<Axes: xlabel='price', ylabel='area'>"
      ]
     },
     "execution_count": 11,
     "metadata": {},
     "output_type": "execute_result"
    },
    {
     "data": {
      "image/png": "[encoded data removed]",
      "text/plain": [
       "<Figure size 640x480 with 1 Axes>"
      ]
     },
     "metadata": {},
     "output_type": "display_data"
    }
   ],
   "source": [
    "sns.scatterplot(data=df, x='price', y='area')"
   ]
  },
  {
   "cell_type": "code",
   "execution_count": 12,
   "id": "923a119e",
   "metadata": {},
   "outputs": [
    {
     "data": {
      "text/plain": [
       "<seaborn.axisgrid.JointGrid at 0x19f1459cd00>"
      ]
     },
     "execution_count": 12,
     "metadata": {},
     "output_type": "execute_result"
    },
    {
     "data": {
      "image/png": "[encoded data removed]",
      "text/plain": [
       "<Figure size 600x600 with 3 Axes>"
      ]
     },
     "metadata": {},
     "output_type": "display_data"
    }
   ],
   "source": [
    "sns.jointplot(data=df,x='price',y='area')"
   ]
  },
  {
   "cell_type": "markdown",
   "id": "5f27a504",
   "metadata": {},
   "source": [
    "### 3. Multivariate"
   ]
  },
  {
   "cell_type": "code",
   "execution_count": 13,
   "id": "d5922817",
   "metadata": {},
   "outputs": [
    {
     "data": {
      "text/html": [
       "<div>\n",
       "<style scoped>\n",
       "    .dataframe tbody tr th:only-of-type {\n",
       "        vertical-align: middle;\n",
       "    }\n",
       "\n",
       "    .dataframe tbody tr th {\n",
       "        vertical-align: top;\n",
       "    }\n",
       "\n",
       "    .dataframe thead th {\n",
       "        text-align: right;\n",
       "    }\n",
       "</style>\n",
       "<table border=\"1\" class=\"dataframe\">\n",
       "  <thead>\n",
       "    <tr style=\"text-align: right;\">\n",
       "      <th></th>\n",
       "      <th>price</th>\n",
       "      <th>area</th>\n",
       "      <th>bedrooms</th>\n",
       "      <th>bathrooms</th>\n",
       "      <th>stories</th>\n",
       "      <th>parking</th>\n",
       "    </tr>\n",
       "  </thead>\n",
       "  <tbody>\n",
       "    <tr>\n",
       "      <th>price</th>\n",
       "      <td>1.000000</td>\n",
       "      <td>0.535997</td>\n",
       "      <td>0.366494</td>\n",
       "      <td>0.517545</td>\n",
       "      <td>0.420712</td>\n",
       "      <td>0.384394</td>\n",
       "    </tr>\n",
       "    <tr>\n",
       "      <th>area</th>\n",
       "      <td>0.535997</td>\n",
       "      <td>1.000000</td>\n",
       "      <td>0.151858</td>\n",
       "      <td>0.193820</td>\n",
       "      <td>0.083996</td>\n",
       "      <td>0.352980</td>\n",
       "    </tr>\n",
       "    <tr>\n",
       "      <th>bedrooms</th>\n",
       "      <td>0.366494</td>\n",
       "      <td>0.151858</td>\n",
       "      <td>1.000000</td>\n",
       "      <td>0.373930</td>\n",
       "      <td>0.408564</td>\n",
       "      <td>0.139270</td>\n",
       "    </tr>\n",
       "    <tr>\n",
       "      <th>bathrooms</th>\n",
       "      <td>0.517545</td>\n",
       "      <td>0.193820</td>\n",
       "      <td>0.373930</td>\n",
       "      <td>1.000000</td>\n",
       "      <td>0.326165</td>\n",
       "      <td>0.177496</td>\n",
       "    </tr>\n",
       "    <tr>\n",
       "      <th>stories</th>\n",
       "      <td>0.420712</td>\n",
       "      <td>0.083996</td>\n",
       "      <td>0.408564</td>\n",
       "      <td>0.326165</td>\n",
       "      <td>1.000000</td>\n",
       "      <td>0.045547</td>\n",
       "    </tr>\n",
       "    <tr>\n",
       "      <th>parking</th>\n",
       "      <td>0.384394</td>\n",
       "      <td>0.352980</td>\n",
       "      <td>0.139270</td>\n",
       "      <td>0.177496</td>\n",
       "      <td>0.045547</td>\n",
       "      <td>1.000000</td>\n",
       "    </tr>\n",
       "  </tbody>\n",
       "</table>\n",
       "</div>"
      ],
      "text/plain": [
       "              price      area  bedrooms  bathrooms   stories   parking\n",
       "price      1.000000  0.535997  0.366494   0.517545  0.420712  0.384394\n",
       "area       0.535997  1.000000  0.151858   0.193820  0.083996  0.352980\n",
       "bedrooms   0.366494  0.151858  1.000000   0.373930  0.408564  0.139270\n",
       "bathrooms  0.517545  0.193820  0.373930   1.000000  0.326165  0.177496\n",
       "stories    0.420712  0.083996  0.408564   0.326165  1.000000  0.045547\n",
       "parking    0.384394  0.352980  0.139270   0.177496  0.045547  1.000000"
      ]
     },
     "execution_count": 13,
     "metadata": {},
     "output_type": "execute_result"
    }
   ],
   "source": [
    "df.select_dtypes(include='number').corr()"
   ]
  },
  {
   "cell_type": "code",
   "execution_count": 14,
   "id": "668e1e79",
   "metadata": {},
   "outputs": [
    {
     "data": {
      "text/plain": [
       "<Axes: >"
      ]
     },
     "execution_count": 14,
     "metadata": {},
     "output_type": "execute_result"
    },
    {
     "data": {
      "image/png": "[encoded data removed]",
      "text/plain": [
       "<Figure size 1000x800 with 2 Axes>"
      ]
     },
     "metadata": {},
     "output_type": "display_data"
    }
   ],
   "source": [
    "plt.figure(figsize=(10,8))\n",
    "sns.heatmap(df.select_dtypes(include='number').corr(),annot=True)"
   ]
  },
  {
   "cell_type": "code",
   "execution_count": 15,
   "id": "4cbdcab4",
   "metadata": {},
   "outputs": [
    {
     "data": {
      "text/plain": [
       "<seaborn.axisgrid.PairGrid at 0x19f3ba176a0>"
      ]
     },
     "execution_count": 15,
     "metadata": {},
     "output_type": "execute_result"
    },
    {
     "data": {
      "image/png": "[encoded data removed]",
      "text/plain": [
       "<Figure size 1500x1500 with 42 Axes>"
      ]
     },
     "metadata": {},
     "output_type": "display_data"
    }
   ],
   "source": [
    "sns.pairplot(df)"
   ]
  },
  {
   "cell_type": "code",
   "execution_count": null,
   "id": "69330842",
   "metadata": {},
   "outputs": [],
   "source": []
  },
  {
   "cell_type": "markdown",
   "id": "7d4da684",
   "metadata": {},
   "source": [
    "# 4. Descriptive Analysis"
   ]
  },
  {
   "cell_type": "code",
   "execution_count": 16,
   "id": "f6efd8a7",
   "metadata": {},
   "outputs": [
    {
     "data": {
      "text/html": [
       "<div>\n",
       "<style scoped>\n",
       "    .dataframe tbody tr th:only-of-type {\n",
       "        vertical-align: middle;\n",
       "    }\n",
       "\n",
       "    .dataframe tbody tr th {\n",
       "        vertical-align: top;\n",
       "    }\n",
       "\n",
       "    .dataframe thead th {\n",
       "        text-align: right;\n",
       "    }\n",
       "</style>\n",
       "<table border=\"1\" class=\"dataframe\">\n",
       "  <thead>\n",
       "    <tr style=\"text-align: right;\">\n",
       "      <th></th>\n",
       "      <th>price</th>\n",
       "      <th>area</th>\n",
       "      <th>bedrooms</th>\n",
       "      <th>bathrooms</th>\n",
       "      <th>stories</th>\n",
       "      <th>parking</th>\n",
       "    </tr>\n",
       "  </thead>\n",
       "  <tbody>\n",
       "    <tr>\n",
       "      <th>count</th>\n",
       "      <td>5.450000e+02</td>\n",
       "      <td>545.000000</td>\n",
       "      <td>545.000000</td>\n",
       "      <td>545.000000</td>\n",
       "      <td>545.000000</td>\n",
       "      <td>545.000000</td>\n",
       "    </tr>\n",
       "    <tr>\n",
       "      <th>mean</th>\n",
       "      <td>4.766729e+06</td>\n",
       "      <td>5150.541284</td>\n",
       "      <td>2.965138</td>\n",
       "      <td>1.286239</td>\n",
       "      <td>1.805505</td>\n",
       "      <td>0.693578</td>\n",
       "    </tr>\n",
       "    <tr>\n",
       "      <th>std</th>\n",
       "      <td>1.870440e+06</td>\n",
       "      <td>2170.141023</td>\n",
       "      <td>0.738064</td>\n",
       "      <td>0.502470</td>\n",
       "      <td>0.867492</td>\n",
       "      <td>0.861586</td>\n",
       "    </tr>\n",
       "    <tr>\n",
       "      <th>min</th>\n",
       "      <td>1.750000e+06</td>\n",
       "      <td>1650.000000</td>\n",
       "      <td>1.000000</td>\n",
       "      <td>1.000000</td>\n",
       "      <td>1.000000</td>\n",
       "      <td>0.000000</td>\n",
       "    </tr>\n",
       "    <tr>\n",
       "      <th>25%</th>\n",
       "      <td>3.430000e+06</td>\n",
       "      <td>3600.000000</td>\n",
       "      <td>2.000000</td>\n",
       "      <td>1.000000</td>\n",
       "      <td>1.000000</td>\n",
       "      <td>0.000000</td>\n",
       "    </tr>\n",
       "    <tr>\n",
       "      <th>50%</th>\n",
       "      <td>4.340000e+06</td>\n",
       "      <td>4600.000000</td>\n",
       "      <td>3.000000</td>\n",
       "      <td>1.000000</td>\n",
       "      <td>2.000000</td>\n",
       "      <td>0.000000</td>\n",
       "    </tr>\n",
       "    <tr>\n",
       "      <th>75%</th>\n",
       "      <td>5.740000e+06</td>\n",
       "      <td>6360.000000</td>\n",
       "      <td>3.000000</td>\n",
       "      <td>2.000000</td>\n",
       "      <td>2.000000</td>\n",
       "      <td>1.000000</td>\n",
       "    </tr>\n",
       "    <tr>\n",
       "      <th>max</th>\n",
       "      <td>1.330000e+07</td>\n",
       "      <td>16200.000000</td>\n",
       "      <td>6.000000</td>\n",
       "      <td>4.000000</td>\n",
       "      <td>4.000000</td>\n",
       "      <td>3.000000</td>\n",
       "    </tr>\n",
       "  </tbody>\n",
       "</table>\n",
       "</div>"
      ],
      "text/plain": [
       "              price          area    bedrooms   bathrooms     stories   \n",
       "count  5.450000e+02    545.000000  545.000000  545.000000  545.000000  \\\n",
       "mean   4.766729e+06   5150.541284    2.965138    1.286239    1.805505   \n",
       "std    1.870440e+06   2170.141023    0.738064    0.502470    0.867492   \n",
       "min    1.750000e+06   1650.000000    1.000000    1.000000    1.000000   \n",
       "25%    3.430000e+06   3600.000000    2.000000    1.000000    1.000000   \n",
       "50%    4.340000e+06   4600.000000    3.000000    1.000000    2.000000   \n",
       "75%    5.740000e+06   6360.000000    3.000000    2.000000    2.000000   \n",
       "max    1.330000e+07  16200.000000    6.000000    4.000000    4.000000   \n",
       "\n",
       "          parking  \n",
       "count  545.000000  \n",
       "mean     0.693578  \n",
       "std      0.861586  \n",
       "min      0.000000  \n",
       "25%      0.000000  \n",
       "50%      0.000000  \n",
       "75%      1.000000  \n",
       "max      3.000000  "
      ]
     },
     "execution_count": 16,
     "metadata": {},
     "output_type": "execute_result"
    }
   ],
   "source": [
    "df.describe()"
   ]
  },
  {
   "cell_type": "code",
   "execution_count": 17,
   "id": "ffe39e2e",
   "metadata": {},
   "outputs": [
    {
     "data": {
      "text/plain": [
       "price        4.766729e+06\n",
       "area         5.150541e+03\n",
       "bedrooms     2.965138e+00\n",
       "bathrooms    1.286239e+00\n",
       "stories      1.805505e+00\n",
       "parking      6.935780e-01\n",
       "dtype: float64"
      ]
     },
     "execution_count": 17,
     "metadata": {},
     "output_type": "execute_result"
    }
   ],
   "source": [
    "df.select_dtypes(include='number').mean()"
   ]
  },
  {
   "cell_type": "code",
   "execution_count": 18,
   "id": "93c47bc5",
   "metadata": {},
   "outputs": [
    {
     "data": {
      "text/plain": [
       "price        4340000.0\n",
       "area            4600.0\n",
       "bedrooms           3.0\n",
       "bathrooms          1.0\n",
       "stories            2.0\n",
       "parking            0.0\n",
       "dtype: float64"
      ]
     },
     "execution_count": 18,
     "metadata": {},
     "output_type": "execute_result"
    }
   ],
   "source": [
    "df.select_dtypes(include='number').median()"
   ]
  },
  {
   "cell_type": "code",
   "execution_count": 19,
   "id": "ea06f831",
   "metadata": {
    "scrolled": true
   },
   "outputs": [
    {
     "data": {
      "text/html": [
       "<div>\n",
       "<style scoped>\n",
       "    .dataframe tbody tr th:only-of-type {\n",
       "        vertical-align: middle;\n",
       "    }\n",
       "\n",
       "    .dataframe tbody tr th {\n",
       "        vertical-align: top;\n",
       "    }\n",
       "\n",
       "    .dataframe thead th {\n",
       "        text-align: right;\n",
       "    }\n",
       "</style>\n",
       "<table border=\"1\" class=\"dataframe\">\n",
       "  <thead>\n",
       "    <tr style=\"text-align: right;\">\n",
       "      <th></th>\n",
       "      <th>price</th>\n",
       "      <th>area</th>\n",
       "      <th>bedrooms</th>\n",
       "      <th>bathrooms</th>\n",
       "      <th>stories</th>\n",
       "      <th>mainroad</th>\n",
       "      <th>guestroom</th>\n",
       "      <th>basement</th>\n",
       "      <th>hotwaterheating</th>\n",
       "      <th>airconditioning</th>\n",
       "      <th>parking</th>\n",
       "      <th>furnishingstatus</th>\n",
       "    </tr>\n",
       "  </thead>\n",
       "  <tbody>\n",
       "    <tr>\n",
       "      <th>0</th>\n",
       "      <td>3500000</td>\n",
       "      <td>6000.0</td>\n",
       "      <td>3.0</td>\n",
       "      <td>1.0</td>\n",
       "      <td>2.0</td>\n",
       "      <td>yes</td>\n",
       "      <td>no</td>\n",
       "      <td>no</td>\n",
       "      <td>no</td>\n",
       "      <td>no</td>\n",
       "      <td>0.0</td>\n",
       "      <td>semi-furnished</td>\n",
       "    </tr>\n",
       "    <tr>\n",
       "      <th>1</th>\n",
       "      <td>4200000</td>\n",
       "      <td>NaN</td>\n",
       "      <td>NaN</td>\n",
       "      <td>NaN</td>\n",
       "      <td>NaN</td>\n",
       "      <td>NaN</td>\n",
       "      <td>NaN</td>\n",
       "      <td>NaN</td>\n",
       "      <td>NaN</td>\n",
       "      <td>NaN</td>\n",
       "      <td>NaN</td>\n",
       "      <td>NaN</td>\n",
       "    </tr>\n",
       "  </tbody>\n",
       "</table>\n",
       "</div>"
      ],
      "text/plain": [
       "     price    area  bedrooms  bathrooms  stories mainroad guestroom basement   \n",
       "0  3500000  6000.0       3.0        1.0      2.0      yes        no       no  \\\n",
       "1  4200000     NaN       NaN        NaN      NaN      NaN       NaN      NaN   \n",
       "\n",
       "  hotwaterheating airconditioning  parking furnishingstatus  \n",
       "0              no              no      0.0   semi-furnished  \n",
       "1             NaN             NaN      NaN              NaN  "
      ]
     },
     "execution_count": 19,
     "metadata": {},
     "output_type": "execute_result"
    }
   ],
   "source": [
    "df.mode()"
   ]
  },
  {
   "cell_type": "code",
   "execution_count": 20,
   "id": "baf30538",
   "metadata": {},
   "outputs": [
    {
     "data": {
      "text/plain": [
       "price        3.498544e+12\n",
       "area         4.709512e+06\n",
       "bedrooms     5.447383e-01\n",
       "bathrooms    2.524757e-01\n",
       "stories      7.525432e-01\n",
       "parking      7.423300e-01\n",
       "dtype: float64"
      ]
     },
     "execution_count": 20,
     "metadata": {},
     "output_type": "execute_result"
    }
   ],
   "source": [
    "df.select_dtypes(include='number').var()"
   ]
  },
  {
   "cell_type": "code",
   "execution_count": 21,
   "id": "38c04452",
   "metadata": {},
   "outputs": [
    {
     "data": {
      "text/plain": [
       "price        1.870440e+06\n",
       "area         2.170141e+03\n",
       "bedrooms     7.380639e-01\n",
       "bathrooms    5.024696e-01\n",
       "stories      8.674925e-01\n",
       "parking      8.615858e-01\n",
       "dtype: float64"
      ]
     },
     "execution_count": 21,
     "metadata": {},
     "output_type": "execute_result"
    }
   ],
   "source": [
    "df.select_dtypes(include='number').std()"
   ]
  },
  {
   "cell_type": "code",
   "execution_count": 22,
   "id": "5bccc77e",
   "metadata": {},
   "outputs": [
    {
     "data": {
      "text/plain": [
       "price        1.212239\n",
       "area         1.321188\n",
       "bedrooms     0.495684\n",
       "bathrooms    1.589264\n",
       "stories      1.082088\n",
       "parking      0.842062\n",
       "dtype: float64"
      ]
     },
     "execution_count": 22,
     "metadata": {},
     "output_type": "execute_result"
    }
   ],
   "source": [
    "df.select_dtypes(include=\"number\").skew()"
   ]
  },
  {
   "cell_type": "code",
   "execution_count": 23,
   "id": "fa46e16d",
   "metadata": {},
   "outputs": [
    {
     "data": {
      "text/plain": [
       "price        1.960130\n",
       "area         2.751480\n",
       "bedrooms     0.728323\n",
       "bathrooms    2.164856\n",
       "stories      0.679404\n",
       "parking     -0.573063\n",
       "dtype: float64"
      ]
     },
     "execution_count": 23,
     "metadata": {},
     "output_type": "execute_result"
    }
   ],
   "source": [
    "df.select_dtypes(include='number').kurt()"
   ]
  },
  {
   "cell_type": "code",
   "execution_count": 24,
   "id": "677767ab",
   "metadata": {
    "scrolled": true
   },
   "outputs": [
    {
     "data": {
      "text/plain": [
       "price                  13300000\n",
       "area                      16200\n",
       "bedrooms                      6\n",
       "bathrooms                     4\n",
       "stories                       4\n",
       "mainroad                    yes\n",
       "guestroom                   yes\n",
       "basement                    yes\n",
       "hotwaterheating             yes\n",
       "airconditioning             yes\n",
       "parking                       3\n",
       "furnishingstatus    unfurnished\n",
       "dtype: object"
      ]
     },
     "execution_count": 24,
     "metadata": {},
     "output_type": "execute_result"
    }
   ],
   "source": [
    "df.max()"
   ]
  },
  {
   "cell_type": "code",
   "execution_count": 25,
   "id": "d1ba39bc",
   "metadata": {},
   "outputs": [
    {
     "data": {
      "text/plain": [
       "price                 1750000\n",
       "area                     1650\n",
       "bedrooms                    1\n",
       "bathrooms                   1\n",
       "stories                     1\n",
       "mainroad                   no\n",
       "guestroom                  no\n",
       "basement                   no\n",
       "hotwaterheating            no\n",
       "airconditioning            no\n",
       "parking                     0\n",
       "furnishingstatus    furnished\n",
       "dtype: object"
      ]
     },
     "execution_count": 25,
     "metadata": {},
     "output_type": "execute_result"
    }
   ],
   "source": [
    "df.min()"
   ]
  },
  {
   "cell_type": "code",
   "execution_count": 26,
   "id": "1aef9681",
   "metadata": {},
   "outputs": [
    {
     "data": {
      "text/html": [
       "<div>\n",
       "<style scoped>\n",
       "    .dataframe tbody tr th:only-of-type {\n",
       "        vertical-align: middle;\n",
       "    }\n",
       "\n",
       "    .dataframe tbody tr th {\n",
       "        vertical-align: top;\n",
       "    }\n",
       "\n",
       "    .dataframe thead th {\n",
       "        text-align: right;\n",
       "    }\n",
       "</style>\n",
       "<table border=\"1\" class=\"dataframe\">\n",
       "  <thead>\n",
       "    <tr style=\"text-align: right;\">\n",
       "      <th></th>\n",
       "      <th>price</th>\n",
       "      <th>area</th>\n",
       "      <th>bedrooms</th>\n",
       "      <th>bathrooms</th>\n",
       "      <th>stories</th>\n",
       "      <th>parking</th>\n",
       "    </tr>\n",
       "  </thead>\n",
       "  <tbody>\n",
       "    <tr>\n",
       "      <th>0.75</th>\n",
       "      <td>5740000.0</td>\n",
       "      <td>6360.0</td>\n",
       "      <td>3.0</td>\n",
       "      <td>2.0</td>\n",
       "      <td>2.0</td>\n",
       "      <td>1.0</td>\n",
       "    </tr>\n",
       "    <tr>\n",
       "      <th>0.25</th>\n",
       "      <td>3430000.0</td>\n",
       "      <td>3600.0</td>\n",
       "      <td>2.0</td>\n",
       "      <td>1.0</td>\n",
       "      <td>1.0</td>\n",
       "      <td>0.0</td>\n",
       "    </tr>\n",
       "  </tbody>\n",
       "</table>\n",
       "</div>"
      ],
      "text/plain": [
       "          price    area  bedrooms  bathrooms  stories  parking\n",
       "0.75  5740000.0  6360.0       3.0        2.0      2.0      1.0\n",
       "0.25  3430000.0  3600.0       2.0        1.0      1.0      0.0"
      ]
     },
     "execution_count": 26,
     "metadata": {},
     "output_type": "execute_result"
    }
   ],
   "source": [
    "quantile=df.select_dtypes(include='number').quantile(q=[0.75,0.25])\n",
    "quantile"
   ]
  },
  {
   "cell_type": "code",
   "execution_count": 27,
   "id": "0adbcb46",
   "metadata": {},
   "outputs": [
    {
     "data": {
      "text/plain": [
       "price        2310000.0\n",
       "area            2760.0\n",
       "bedrooms           1.0\n",
       "bathrooms          1.0\n",
       "stories            1.0\n",
       "parking            1.0\n",
       "dtype: float64"
      ]
     },
     "execution_count": 27,
     "metadata": {},
     "output_type": "execute_result"
    }
   ],
   "source": [
    "IQR=quantile.iloc[0]-quantile.iloc[1]\n",
    "IQR"
   ]
  },
  {
   "cell_type": "markdown",
   "id": "a98de4d2",
   "metadata": {},
   "source": [
    "### UPPER EXTREME "
   ]
  },
  {
   "cell_type": "code",
   "execution_count": 28,
   "id": "2aa1fcd6",
   "metadata": {},
   "outputs": [
    {
     "data": {
      "text/plain": [
       "price        9205000.0\n",
       "area           10500.0\n",
       "bedrooms           4.5\n",
       "bathrooms          3.5\n",
       "stories            3.5\n",
       "parking            2.5\n",
       "dtype: float64"
      ]
     },
     "execution_count": 28,
     "metadata": {},
     "output_type": "execute_result"
    }
   ],
   "source": [
    "upper_extreme=quantile.iloc[0]+(1.5*IQR)\n",
    "upper_extreme"
   ]
  },
  {
   "cell_type": "markdown",
   "id": "6e7df110",
   "metadata": {},
   "source": [
    "### LOWER EXTREME"
   ]
  },
  {
   "cell_type": "code",
   "execution_count": 29,
   "id": "df3437f0",
   "metadata": {},
   "outputs": [
    {
     "data": {
      "text/plain": [
       "price       -35000.0\n",
       "area          -540.0\n",
       "bedrooms         0.5\n",
       "bathrooms       -0.5\n",
       "stories         -0.5\n",
       "parking         -1.5\n",
       "dtype: float64"
      ]
     },
     "execution_count": 29,
     "metadata": {},
     "output_type": "execute_result"
    }
   ],
   "source": [
    "lower_extreme=quantile.iloc[1]-(1.5*IQR)\n",
    "lower_extreme"
   ]
  },
  {
   "cell_type": "markdown",
   "id": "66efb177",
   "metadata": {},
   "source": [
    "# 5. Checking for missing values"
   ]
  },
  {
   "cell_type": "code",
   "execution_count": 30,
   "id": "eb3c996d",
   "metadata": {},
   "outputs": [
    {
     "data": {
      "text/plain": [
       "price               False\n",
       "area                False\n",
       "bedrooms            False\n",
       "bathrooms           False\n",
       "stories             False\n",
       "mainroad            False\n",
       "guestroom           False\n",
       "basement            False\n",
       "hotwaterheating     False\n",
       "airconditioning     False\n",
       "parking             False\n",
       "furnishingstatus    False\n",
       "dtype: bool"
      ]
     },
     "execution_count": 30,
     "metadata": {},
     "output_type": "execute_result"
    }
   ],
   "source": [
    "df.isnull().any()"
   ]
  },
  {
   "cell_type": "code",
   "execution_count": 31,
   "id": "3bd1e249",
   "metadata": {},
   "outputs": [
    {
     "data": {
      "text/plain": [
       "price               0\n",
       "area                0\n",
       "bedrooms            0\n",
       "bathrooms           0\n",
       "stories             0\n",
       "mainroad            0\n",
       "guestroom           0\n",
       "basement            0\n",
       "hotwaterheating     0\n",
       "airconditioning     0\n",
       "parking             0\n",
       "furnishingstatus    0\n",
       "dtype: int64"
      ]
     },
     "execution_count": 31,
     "metadata": {},
     "output_type": "execute_result"
    }
   ],
   "source": [
    "df.isnull().sum()"
   ]
  },
  {
   "cell_type": "markdown",
   "id": "b6bca5c8",
   "metadata": {},
   "source": [
    "### There is no null value in the dataset\n"
   ]
  },
  {
   "cell_type": "markdown",
   "id": "36fd9d48",
   "metadata": {},
   "source": [
    "# 6. Find Outliers and replace them."
   ]
  },
  {
   "cell_type": "code",
   "execution_count": 32,
   "id": "1df2c4f8",
   "metadata": {},
   "outputs": [
    {
     "data": {
      "text/plain": [
       "Text(0.5, 1.0, 'Boxplot of price')"
      ]
     },
     "execution_count": 32,
     "metadata": {},
     "output_type": "execute_result"
    },
    {
     "data": {
      "image/png": "[encoded data removed]",
      "text/plain": [
       "<Figure size 640x480 with 1 Axes>"
      ]
     },
     "metadata": {},
     "output_type": "display_data"
    }
   ],
   "source": [
    "sns.boxplot(df,x='price')\n",
    "plt.title(\"Boxplot of price\")"
   ]
  },
  {
   "cell_type": "code",
   "execution_count": 33,
   "id": "ce0bad5a",
   "metadata": {},
   "outputs": [],
   "source": [
    "q1=df['price'].quantile(0.25)\n",
    "q3=df['price'].quantile(0.75)\n",
    "IQR = q3 - q1\n",
    "le = q1 - (1.5 * IQR)\n",
    "ue = q3 + (1.5 * IQR)\n",
    "df['price']=np.where(df['price']>ue,ue,np.where(df['price']<le,le,df['price']))\n"
   ]
  },
  {
   "cell_type": "code",
   "execution_count": 34,
   "id": "56cec28d",
   "metadata": {},
   "outputs": [
    {
     "data": {
      "text/plain": [
       "<Axes: xlabel='price'>"
      ]
     },
     "execution_count": 34,
     "metadata": {},
     "output_type": "execute_result"
    },
    {
     "data": {
      "image/png": "[encoded data removed]",
      "text/plain": [
       "<Figure size 640x480 with 1 Axes>"
      ]
     },
     "metadata": {},
     "output_type": "display_data"
    }
   ],
   "source": [
    "sns.boxplot(df,x='price')"
   ]
  },
  {
   "cell_type": "code",
   "execution_count": 35,
   "id": "8daecf02",
   "metadata": {},
   "outputs": [
    {
     "data": {
      "text/plain": [
       "<Axes: xlabel='area'>"
      ]
     },
     "execution_count": 35,
     "metadata": {},
     "output_type": "execute_result"
    },
    {
     "data": {
      "image/png": "[encoded data removed]",
      "text/plain": [
       "<Figure size 640x480 with 1 Axes>"
      ]
     },
     "metadata": {},
     "output_type": "display_data"
    }
   ],
   "source": [
    "sns.boxplot(df,x='area')"
   ]
  },
  {
   "cell_type": "code",
   "execution_count": 36,
   "id": "1c0c7c01",
   "metadata": {},
   "outputs": [],
   "source": [
    "q1=df['area'].quantile(0.25)\n",
    "q3=df['area'].quantile(0.75)\n",
    "IQR = q3 - q1\n",
    "le = q1 - (1.5 * IQR)\n",
    "ue = q3 + (1.5 * IQR)\n",
    "df['area']=np.where(df['area']>ue,ue,np.where(df['area']<le,le,df['area']))\n"
   ]
  },
  {
   "cell_type": "code",
   "execution_count": 37,
   "id": "f0be7206",
   "metadata": {},
   "outputs": [
    {
     "data": {
      "text/plain": [
       "<Axes: xlabel='area'>"
      ]
     },
     "execution_count": 37,
     "metadata": {},
     "output_type": "execute_result"
    },
    {
     "data": {
      "image/png": "[encoded data removed]",
      "text/plain": [
       "<Figure size 640x480 with 1 Axes>"
      ]
     },
     "metadata": {},
     "output_type": "display_data"
    }
   ],
   "source": [
    "sns.boxplot(df,x='area')"
   ]
  },
  {
   "cell_type": "code",
   "execution_count": 38,
   "id": "64fd9319",
   "metadata": {},
   "outputs": [
    {
     "data": {
      "text/plain": [
       "<Axes: xlabel='bathrooms'>"
      ]
     },
     "execution_count": 38,
     "metadata": {},
     "output_type": "execute_result"
    },
    {
     "data": {
      "image/png": "[encoded data removed]",
      "text/plain": [
       "<Figure size 640x480 with 1 Axes>"
      ]
     },
     "metadata": {},
     "output_type": "display_data"
    }
   ],
   "source": [
    "sns.boxplot(df,x='bathrooms')"
   ]
  },
  {
   "cell_type": "code",
   "execution_count": 39,
   "id": "a4660652",
   "metadata": {},
   "outputs": [],
   "source": [
    "q1=df['bathrooms'].quantile(0.25)\n",
    "q3=df['bathrooms'].quantile(0.75)\n",
    "IQR = q3 - q1\n",
    "le = q1 - (1.5 * IQR)\n",
    "ue = q3 + (1.5 * IQR)\n",
    "df['bathrooms']=np.where(df['bathrooms']>ue,ue,np.where(df['bathrooms']<le,le,df['bathrooms']))\n"
   ]
  },
  {
   "cell_type": "code",
   "execution_count": 40,
   "id": "9cf01be7",
   "metadata": {},
   "outputs": [
    {
     "data": {
      "text/plain": [
       "<Axes: xlabel='bathrooms'>"
      ]
     },
     "execution_count": 40,
     "metadata": {},
     "output_type": "execute_result"
    },
    {
     "data": {
      "image/png": "[encoded data removed]",
      "text/plain": [
       "<Figure size 640x480 with 1 Axes>"
      ]
     },
     "metadata": {},
     "output_type": "display_data"
    }
   ],
   "source": [
    "sns.boxplot(df,x='bathrooms')"
   ]
  },
  {
   "cell_type": "markdown",
   "id": "e4f39762",
   "metadata": {},
   "source": [
    "# 7. Check for categorical columns and perform encoding"
   ]
  },
  {
   "cell_type": "code",
   "execution_count": 41,
   "id": "719dd05e",
   "metadata": {},
   "outputs": [],
   "source": [
    "le = LabelEncoder()"
   ]
  },
  {
   "cell_type": "code",
   "execution_count": 42,
   "id": "32be71e8",
   "metadata": {},
   "outputs": [],
   "source": [
    "df['mainroad'] = le.fit_transform(df['mainroad'])\n",
    "df['guestroom'] = le.fit_transform(df['guestroom'])\n",
    "df['basement'] = le.fit_transform(df['basement'])\n",
    "df['hotwaterheating'] = le.fit_transform(df['hotwaterheating'])\n",
    "df['airconditioning'] = le.fit_transform(df['airconditioning'])\n",
    "df['furnishingstatus'] = le.fit_transform(df['furnishingstatus'])"
   ]
  },
  {
   "cell_type": "code",
   "execution_count": 43,
   "id": "9f711f9c",
   "metadata": {},
   "outputs": [
    {
     "data": {
      "text/html": [
       "<div>\n",
       "<style scoped>\n",
       "    .dataframe tbody tr th:only-of-type {\n",
       "        vertical-align: middle;\n",
       "    }\n",
       "\n",
       "    .dataframe tbody tr th {\n",
       "        vertical-align: top;\n",
       "    }\n",
       "\n",
       "    .dataframe thead th {\n",
       "        text-align: right;\n",
       "    }\n",
       "</style>\n",
       "<table border=\"1\" class=\"dataframe\">\n",
       "  <thead>\n",
       "    <tr style=\"text-align: right;\">\n",
       "      <th></th>\n",
       "      <th>price</th>\n",
       "      <th>area</th>\n",
       "      <th>bedrooms</th>\n",
       "      <th>bathrooms</th>\n",
       "      <th>stories</th>\n",
       "      <th>mainroad</th>\n",
       "      <th>guestroom</th>\n",
       "      <th>basement</th>\n",
       "      <th>hotwaterheating</th>\n",
       "      <th>airconditioning</th>\n",
       "      <th>parking</th>\n",
       "      <th>furnishingstatus</th>\n",
       "    </tr>\n",
       "  </thead>\n",
       "  <tbody>\n",
       "    <tr>\n",
       "      <th>0</th>\n",
       "      <td>9205000.0</td>\n",
       "      <td>7420.0</td>\n",
       "      <td>4</td>\n",
       "      <td>2.0</td>\n",
       "      <td>3</td>\n",
       "      <td>1</td>\n",
       "      <td>0</td>\n",
       "      <td>0</td>\n",
       "      <td>0</td>\n",
       "      <td>1</td>\n",
       "      <td>2</td>\n",
       "      <td>0</td>\n",
       "    </tr>\n",
       "    <tr>\n",
       "      <th>1</th>\n",
       "      <td>9205000.0</td>\n",
       "      <td>8960.0</td>\n",
       "      <td>4</td>\n",
       "      <td>3.5</td>\n",
       "      <td>4</td>\n",
       "      <td>1</td>\n",
       "      <td>0</td>\n",
       "      <td>0</td>\n",
       "      <td>0</td>\n",
       "      <td>1</td>\n",
       "      <td>3</td>\n",
       "      <td>0</td>\n",
       "    </tr>\n",
       "    <tr>\n",
       "      <th>2</th>\n",
       "      <td>9205000.0</td>\n",
       "      <td>9960.0</td>\n",
       "      <td>3</td>\n",
       "      <td>2.0</td>\n",
       "      <td>2</td>\n",
       "      <td>1</td>\n",
       "      <td>0</td>\n",
       "      <td>1</td>\n",
       "      <td>0</td>\n",
       "      <td>0</td>\n",
       "      <td>2</td>\n",
       "      <td>1</td>\n",
       "    </tr>\n",
       "    <tr>\n",
       "      <th>3</th>\n",
       "      <td>9205000.0</td>\n",
       "      <td>7500.0</td>\n",
       "      <td>4</td>\n",
       "      <td>2.0</td>\n",
       "      <td>2</td>\n",
       "      <td>1</td>\n",
       "      <td>0</td>\n",
       "      <td>1</td>\n",
       "      <td>0</td>\n",
       "      <td>1</td>\n",
       "      <td>3</td>\n",
       "      <td>0</td>\n",
       "    </tr>\n",
       "    <tr>\n",
       "      <th>4</th>\n",
       "      <td>9205000.0</td>\n",
       "      <td>7420.0</td>\n",
       "      <td>4</td>\n",
       "      <td>1.0</td>\n",
       "      <td>2</td>\n",
       "      <td>1</td>\n",
       "      <td>1</td>\n",
       "      <td>1</td>\n",
       "      <td>0</td>\n",
       "      <td>1</td>\n",
       "      <td>2</td>\n",
       "      <td>0</td>\n",
       "    </tr>\n",
       "  </tbody>\n",
       "</table>\n",
       "</div>"
      ],
      "text/plain": [
       "       price    area  bedrooms  bathrooms  stories  mainroad  guestroom   \n",
       "0  9205000.0  7420.0         4        2.0        3         1          0  \\\n",
       "1  9205000.0  8960.0         4        3.5        4         1          0   \n",
       "2  9205000.0  9960.0         3        2.0        2         1          0   \n",
       "3  9205000.0  7500.0         4        2.0        2         1          0   \n",
       "4  9205000.0  7420.0         4        1.0        2         1          1   \n",
       "\n",
       "   basement  hotwaterheating  airconditioning  parking  furnishingstatus  \n",
       "0         0                0                1        2                 0  \n",
       "1         0                0                1        3                 0  \n",
       "2         1                0                0        2                 1  \n",
       "3         1                0                1        3                 0  \n",
       "4         1                0                1        2                 0  "
      ]
     },
     "execution_count": 43,
     "metadata": {},
     "output_type": "execute_result"
    }
   ],
   "source": [
    "df.head()"
   ]
  },
  {
   "cell_type": "markdown",
   "id": "ab2b1fae",
   "metadata": {},
   "source": [
    "# 8. Splitting the dataset into dependent and independent variables"
   ]
  },
  {
   "cell_type": "code",
   "execution_count": 44,
   "id": "c38e6adc",
   "metadata": {},
   "outputs": [],
   "source": [
    "x=df.iloc[:,1:]\n",
    "y=df['price']"
   ]
  },
  {
   "cell_type": "code",
   "execution_count": 45,
   "id": "54c3db89",
   "metadata": {},
   "outputs": [
    {
     "data": {
      "text/html": [
       "<div>\n",
       "<style scoped>\n",
       "    .dataframe tbody tr th:only-of-type {\n",
       "        vertical-align: middle;\n",
       "    }\n",
       "\n",
       "    .dataframe tbody tr th {\n",
       "        vertical-align: top;\n",
       "    }\n",
       "\n",
       "    .dataframe thead th {\n",
       "        text-align: right;\n",
       "    }\n",
       "</style>\n",
       "<table border=\"1\" class=\"dataframe\">\n",
       "  <thead>\n",
       "    <tr style=\"text-align: right;\">\n",
       "      <th></th>\n",
       "      <th>area</th>\n",
       "      <th>bedrooms</th>\n",
       "      <th>bathrooms</th>\n",
       "      <th>stories</th>\n",
       "      <th>mainroad</th>\n",
       "      <th>guestroom</th>\n",
       "      <th>basement</th>\n",
       "      <th>hotwaterheating</th>\n",
       "      <th>airconditioning</th>\n",
       "      <th>parking</th>\n",
       "      <th>furnishingstatus</th>\n",
       "    </tr>\n",
       "  </thead>\n",
       "  <tbody>\n",
       "    <tr>\n",
       "      <th>0</th>\n",
       "      <td>7420.0</td>\n",
       "      <td>4</td>\n",
       "      <td>2.0</td>\n",
       "      <td>3</td>\n",
       "      <td>1</td>\n",
       "      <td>0</td>\n",
       "      <td>0</td>\n",
       "      <td>0</td>\n",
       "      <td>1</td>\n",
       "      <td>2</td>\n",
       "      <td>0</td>\n",
       "    </tr>\n",
       "    <tr>\n",
       "      <th>1</th>\n",
       "      <td>8960.0</td>\n",
       "      <td>4</td>\n",
       "      <td>3.5</td>\n",
       "      <td>4</td>\n",
       "      <td>1</td>\n",
       "      <td>0</td>\n",
       "      <td>0</td>\n",
       "      <td>0</td>\n",
       "      <td>1</td>\n",
       "      <td>3</td>\n",
       "      <td>0</td>\n",
       "    </tr>\n",
       "    <tr>\n",
       "      <th>2</th>\n",
       "      <td>9960.0</td>\n",
       "      <td>3</td>\n",
       "      <td>2.0</td>\n",
       "      <td>2</td>\n",
       "      <td>1</td>\n",
       "      <td>0</td>\n",
       "      <td>1</td>\n",
       "      <td>0</td>\n",
       "      <td>0</td>\n",
       "      <td>2</td>\n",
       "      <td>1</td>\n",
       "    </tr>\n",
       "    <tr>\n",
       "      <th>3</th>\n",
       "      <td>7500.0</td>\n",
       "      <td>4</td>\n",
       "      <td>2.0</td>\n",
       "      <td>2</td>\n",
       "      <td>1</td>\n",
       "      <td>0</td>\n",
       "      <td>1</td>\n",
       "      <td>0</td>\n",
       "      <td>1</td>\n",
       "      <td>3</td>\n",
       "      <td>0</td>\n",
       "    </tr>\n",
       "    <tr>\n",
       "      <th>4</th>\n",
       "      <td>7420.0</td>\n",
       "      <td>4</td>\n",
       "      <td>1.0</td>\n",
       "      <td>2</td>\n",
       "      <td>1</td>\n",
       "      <td>1</td>\n",
       "      <td>1</td>\n",
       "      <td>0</td>\n",
       "      <td>1</td>\n",
       "      <td>2</td>\n",
       "      <td>0</td>\n",
       "    </tr>\n",
       "    <tr>\n",
       "      <th>...</th>\n",
       "      <td>...</td>\n",
       "      <td>...</td>\n",
       "      <td>...</td>\n",
       "      <td>...</td>\n",
       "      <td>...</td>\n",
       "      <td>...</td>\n",
       "      <td>...</td>\n",
       "      <td>...</td>\n",
       "      <td>...</td>\n",
       "      <td>...</td>\n",
       "      <td>...</td>\n",
       "    </tr>\n",
       "    <tr>\n",
       "      <th>540</th>\n",
       "      <td>3000.0</td>\n",
       "      <td>2</td>\n",
       "      <td>1.0</td>\n",
       "      <td>1</td>\n",
       "      <td>1</td>\n",
       "      <td>0</td>\n",
       "      <td>1</td>\n",
       "      <td>0</td>\n",
       "      <td>0</td>\n",
       "      <td>2</td>\n",
       "      <td>2</td>\n",
       "    </tr>\n",
       "    <tr>\n",
       "      <th>541</th>\n",
       "      <td>2400.0</td>\n",
       "      <td>3</td>\n",
       "      <td>1.0</td>\n",
       "      <td>1</td>\n",
       "      <td>0</td>\n",
       "      <td>0</td>\n",
       "      <td>0</td>\n",
       "      <td>0</td>\n",
       "      <td>0</td>\n",
       "      <td>0</td>\n",
       "      <td>1</td>\n",
       "    </tr>\n",
       "    <tr>\n",
       "      <th>542</th>\n",
       "      <td>3620.0</td>\n",
       "      <td>2</td>\n",
       "      <td>1.0</td>\n",
       "      <td>1</td>\n",
       "      <td>1</td>\n",
       "      <td>0</td>\n",
       "      <td>0</td>\n",
       "      <td>0</td>\n",
       "      <td>0</td>\n",
       "      <td>0</td>\n",
       "      <td>2</td>\n",
       "    </tr>\n",
       "    <tr>\n",
       "      <th>543</th>\n",
       "      <td>2910.0</td>\n",
       "      <td>3</td>\n",
       "      <td>1.0</td>\n",
       "      <td>1</td>\n",
       "      <td>0</td>\n",
       "      <td>0</td>\n",
       "      <td>0</td>\n",
       "      <td>0</td>\n",
       "      <td>0</td>\n",
       "      <td>0</td>\n",
       "      <td>0</td>\n",
       "    </tr>\n",
       "    <tr>\n",
       "      <th>544</th>\n",
       "      <td>3850.0</td>\n",
       "      <td>3</td>\n",
       "      <td>1.0</td>\n",
       "      <td>2</td>\n",
       "      <td>1</td>\n",
       "      <td>0</td>\n",
       "      <td>0</td>\n",
       "      <td>0</td>\n",
       "      <td>0</td>\n",
       "      <td>0</td>\n",
       "      <td>2</td>\n",
       "    </tr>\n",
       "  </tbody>\n",
       "</table>\n",
       "<p>545 rows × 11 columns</p>\n",
       "</div>"
      ],
      "text/plain": [
       "       area  bedrooms  bathrooms  stories  mainroad  guestroom  basement   \n",
       "0    7420.0         4        2.0        3         1          0         0  \\\n",
       "1    8960.0         4        3.5        4         1          0         0   \n",
       "2    9960.0         3        2.0        2         1          0         1   \n",
       "3    7500.0         4        2.0        2         1          0         1   \n",
       "4    7420.0         4        1.0        2         1          1         1   \n",
       "..      ...       ...        ...      ...       ...        ...       ...   \n",
       "540  3000.0         2        1.0        1         1          0         1   \n",
       "541  2400.0         3        1.0        1         0          0         0   \n",
       "542  3620.0         2        1.0        1         1          0         0   \n",
       "543  2910.0         3        1.0        1         0          0         0   \n",
       "544  3850.0         3        1.0        2         1          0         0   \n",
       "\n",
       "     hotwaterheating  airconditioning  parking  furnishingstatus  \n",
       "0                  0                1        2                 0  \n",
       "1                  0                1        3                 0  \n",
       "2                  0                0        2                 1  \n",
       "3                  0                1        3                 0  \n",
       "4                  0                1        2                 0  \n",
       "..               ...              ...      ...               ...  \n",
       "540                0                0        2                 2  \n",
       "541                0                0        0                 1  \n",
       "542                0                0        0                 2  \n",
       "543                0                0        0                 0  \n",
       "544                0                0        0                 2  \n",
       "\n",
       "[545 rows x 11 columns]"
      ]
     },
     "execution_count": 45,
     "metadata": {},
     "output_type": "execute_result"
    }
   ],
   "source": [
    "x"
   ]
  },
  {
   "cell_type": "code",
   "execution_count": 46,
   "id": "dfe896a0",
   "metadata": {},
   "outputs": [
    {
     "data": {
      "text/plain": [
       "0      9205000.0\n",
       "1      9205000.0\n",
       "2      9205000.0\n",
       "3      9205000.0\n",
       "4      9205000.0\n",
       "         ...    \n",
       "540    1820000.0\n",
       "541    1767150.0\n",
       "542    1750000.0\n",
       "543    1750000.0\n",
       "544    1750000.0\n",
       "Name: price, Length: 545, dtype: float64"
      ]
     },
     "execution_count": 46,
     "metadata": {},
     "output_type": "execute_result"
    }
   ],
   "source": [
    "y"
   ]
  },
  {
   "cell_type": "markdown",
   "id": "495e9b33",
   "metadata": {},
   "source": [
    "# Scale the independent variables"
   ]
  },
  {
   "cell_type": "code",
   "execution_count": 47,
   "id": "6de2b392",
   "metadata": {},
   "outputs": [
    {
     "data": {
      "text/plain": [
       "Index(['area', 'bedrooms', 'bathrooms', 'stories', 'mainroad', 'guestroom',\n",
       "       'basement', 'hotwaterheating', 'airconditioning', 'parking',\n",
       "       'furnishingstatus'],\n",
       "      dtype='object')"
      ]
     },
     "execution_count": 47,
     "metadata": {},
     "output_type": "execute_result"
    }
   ],
   "source": [
    "col_val=x.columns\n",
    "col_val"
   ]
  },
  {
   "cell_type": "code",
   "execution_count": 48,
   "id": "9e1a1bb6",
   "metadata": {},
   "outputs": [],
   "source": [
    "mn = StandardScaler()"
   ]
  },
  {
   "cell_type": "code",
   "execution_count": 49,
   "id": "fbc95e75",
   "metadata": {},
   "outputs": [
    {
     "data": {
      "text/plain": [
       "array([[ 1.15658327,  1.40341936,  1.4365849 , ...,  1.4726183 ,\n",
       "         1.51769249, -1.40628573],\n",
       "       [ 1.92506041,  1.40341936,  4.45175346, ...,  1.4726183 ,\n",
       "         2.67940935, -1.40628573],\n",
       "       [ 2.42407154,  0.04727831,  1.4365849 , ..., -0.67906259,\n",
       "         1.51769249, -0.09166185],\n",
       "       ...,\n",
       "       [-0.73965902, -1.30886273, -0.57352748, ..., -0.67906259,\n",
       "        -0.80574124,  1.22296203],\n",
       "       [-1.09395692,  0.04727831, -0.57352748, ..., -0.67906259,\n",
       "        -0.80574124, -1.40628573],\n",
       "       [-0.62488646,  0.04727831, -0.57352748, ..., -0.67906259,\n",
       "        -0.80574124,  1.22296203]])"
      ]
     },
     "execution_count": 49,
     "metadata": {},
     "output_type": "execute_result"
    }
   ],
   "source": [
    "x = mn.fit_transform(x)\n",
    "x"
   ]
  },
  {
   "cell_type": "code",
   "execution_count": 50,
   "id": "a17035b5",
   "metadata": {},
   "outputs": [],
   "source": [
    "x=pd.DataFrame(x,columns=col_val)"
   ]
  },
  {
   "cell_type": "code",
   "execution_count": 51,
   "id": "b2c97f20",
   "metadata": {},
   "outputs": [
    {
     "data": {
      "text/html": [
       "<div>\n",
       "<style scoped>\n",
       "    .dataframe tbody tr th:only-of-type {\n",
       "        vertical-align: middle;\n",
       "    }\n",
       "\n",
       "    .dataframe tbody tr th {\n",
       "        vertical-align: top;\n",
       "    }\n",
       "\n",
       "    .dataframe thead th {\n",
       "        text-align: right;\n",
       "    }\n",
       "</style>\n",
       "<table border=\"1\" class=\"dataframe\">\n",
       "  <thead>\n",
       "    <tr style=\"text-align: right;\">\n",
       "      <th></th>\n",
       "      <th>area</th>\n",
       "      <th>bedrooms</th>\n",
       "      <th>bathrooms</th>\n",
       "      <th>stories</th>\n",
       "      <th>mainroad</th>\n",
       "      <th>guestroom</th>\n",
       "      <th>basement</th>\n",
       "      <th>hotwaterheating</th>\n",
       "      <th>airconditioning</th>\n",
       "      <th>parking</th>\n",
       "      <th>furnishingstatus</th>\n",
       "    </tr>\n",
       "  </thead>\n",
       "  <tbody>\n",
       "    <tr>\n",
       "      <th>0</th>\n",
       "      <td>1.156583</td>\n",
       "      <td>1.403419</td>\n",
       "      <td>1.436585</td>\n",
       "      <td>1.378217</td>\n",
       "      <td>0.405623</td>\n",
       "      <td>-0.465315</td>\n",
       "      <td>-0.734539</td>\n",
       "      <td>-0.219265</td>\n",
       "      <td>1.472618</td>\n",
       "      <td>1.517692</td>\n",
       "      <td>-1.406286</td>\n",
       "    </tr>\n",
       "    <tr>\n",
       "      <th>1</th>\n",
       "      <td>1.925060</td>\n",
       "      <td>1.403419</td>\n",
       "      <td>4.451753</td>\n",
       "      <td>2.532024</td>\n",
       "      <td>0.405623</td>\n",
       "      <td>-0.465315</td>\n",
       "      <td>-0.734539</td>\n",
       "      <td>-0.219265</td>\n",
       "      <td>1.472618</td>\n",
       "      <td>2.679409</td>\n",
       "      <td>-1.406286</td>\n",
       "    </tr>\n",
       "    <tr>\n",
       "      <th>2</th>\n",
       "      <td>2.424072</td>\n",
       "      <td>0.047278</td>\n",
       "      <td>1.436585</td>\n",
       "      <td>0.224410</td>\n",
       "      <td>0.405623</td>\n",
       "      <td>-0.465315</td>\n",
       "      <td>1.361397</td>\n",
       "      <td>-0.219265</td>\n",
       "      <td>-0.679063</td>\n",
       "      <td>1.517692</td>\n",
       "      <td>-0.091662</td>\n",
       "    </tr>\n",
       "    <tr>\n",
       "      <th>3</th>\n",
       "      <td>1.196504</td>\n",
       "      <td>1.403419</td>\n",
       "      <td>1.436585</td>\n",
       "      <td>0.224410</td>\n",
       "      <td>0.405623</td>\n",
       "      <td>-0.465315</td>\n",
       "      <td>1.361397</td>\n",
       "      <td>-0.219265</td>\n",
       "      <td>1.472618</td>\n",
       "      <td>2.679409</td>\n",
       "      <td>-1.406286</td>\n",
       "    </tr>\n",
       "    <tr>\n",
       "      <th>4</th>\n",
       "      <td>1.156583</td>\n",
       "      <td>1.403419</td>\n",
       "      <td>-0.573527</td>\n",
       "      <td>0.224410</td>\n",
       "      <td>0.405623</td>\n",
       "      <td>2.149083</td>\n",
       "      <td>1.361397</td>\n",
       "      <td>-0.219265</td>\n",
       "      <td>1.472618</td>\n",
       "      <td>1.517692</td>\n",
       "      <td>-1.406286</td>\n",
       "    </tr>\n",
       "    <tr>\n",
       "      <th>...</th>\n",
       "      <td>...</td>\n",
       "      <td>...</td>\n",
       "      <td>...</td>\n",
       "      <td>...</td>\n",
       "      <td>...</td>\n",
       "      <td>...</td>\n",
       "      <td>...</td>\n",
       "      <td>...</td>\n",
       "      <td>...</td>\n",
       "      <td>...</td>\n",
       "      <td>...</td>\n",
       "    </tr>\n",
       "    <tr>\n",
       "      <th>540</th>\n",
       "      <td>-1.049046</td>\n",
       "      <td>-1.308863</td>\n",
       "      <td>-0.573527</td>\n",
       "      <td>-0.929397</td>\n",
       "      <td>0.405623</td>\n",
       "      <td>-0.465315</td>\n",
       "      <td>1.361397</td>\n",
       "      <td>-0.219265</td>\n",
       "      <td>-0.679063</td>\n",
       "      <td>1.517692</td>\n",
       "      <td>1.222962</td>\n",
       "    </tr>\n",
       "    <tr>\n",
       "      <th>541</th>\n",
       "      <td>-1.348453</td>\n",
       "      <td>0.047278</td>\n",
       "      <td>-0.573527</td>\n",
       "      <td>-0.929397</td>\n",
       "      <td>-2.465344</td>\n",
       "      <td>-0.465315</td>\n",
       "      <td>-0.734539</td>\n",
       "      <td>-0.219265</td>\n",
       "      <td>-0.679063</td>\n",
       "      <td>-0.805741</td>\n",
       "      <td>-0.091662</td>\n",
       "    </tr>\n",
       "    <tr>\n",
       "      <th>542</th>\n",
       "      <td>-0.739659</td>\n",
       "      <td>-1.308863</td>\n",
       "      <td>-0.573527</td>\n",
       "      <td>-0.929397</td>\n",
       "      <td>0.405623</td>\n",
       "      <td>-0.465315</td>\n",
       "      <td>-0.734539</td>\n",
       "      <td>-0.219265</td>\n",
       "      <td>-0.679063</td>\n",
       "      <td>-0.805741</td>\n",
       "      <td>1.222962</td>\n",
       "    </tr>\n",
       "    <tr>\n",
       "      <th>543</th>\n",
       "      <td>-1.093957</td>\n",
       "      <td>0.047278</td>\n",
       "      <td>-0.573527</td>\n",
       "      <td>-0.929397</td>\n",
       "      <td>-2.465344</td>\n",
       "      <td>-0.465315</td>\n",
       "      <td>-0.734539</td>\n",
       "      <td>-0.219265</td>\n",
       "      <td>-0.679063</td>\n",
       "      <td>-0.805741</td>\n",
       "      <td>-1.406286</td>\n",
       "    </tr>\n",
       "    <tr>\n",
       "      <th>544</th>\n",
       "      <td>-0.624886</td>\n",
       "      <td>0.047278</td>\n",
       "      <td>-0.573527</td>\n",
       "      <td>0.224410</td>\n",
       "      <td>0.405623</td>\n",
       "      <td>-0.465315</td>\n",
       "      <td>-0.734539</td>\n",
       "      <td>-0.219265</td>\n",
       "      <td>-0.679063</td>\n",
       "      <td>-0.805741</td>\n",
       "      <td>1.222962</td>\n",
       "    </tr>\n",
       "  </tbody>\n",
       "</table>\n",
       "<p>545 rows × 11 columns</p>\n",
       "</div>"
      ],
      "text/plain": [
       "         area  bedrooms  bathrooms   stories  mainroad  guestroom  basement   \n",
       "0    1.156583  1.403419   1.436585  1.378217  0.405623  -0.465315 -0.734539  \\\n",
       "1    1.925060  1.403419   4.451753  2.532024  0.405623  -0.465315 -0.734539   \n",
       "2    2.424072  0.047278   1.436585  0.224410  0.405623  -0.465315  1.361397   \n",
       "3    1.196504  1.403419   1.436585  0.224410  0.405623  -0.465315  1.361397   \n",
       "4    1.156583  1.403419  -0.573527  0.224410  0.405623   2.149083  1.361397   \n",
       "..        ...       ...        ...       ...       ...        ...       ...   \n",
       "540 -1.049046 -1.308863  -0.573527 -0.929397  0.405623  -0.465315  1.361397   \n",
       "541 -1.348453  0.047278  -0.573527 -0.929397 -2.465344  -0.465315 -0.734539   \n",
       "542 -0.739659 -1.308863  -0.573527 -0.929397  0.405623  -0.465315 -0.734539   \n",
       "543 -1.093957  0.047278  -0.573527 -0.929397 -2.465344  -0.465315 -0.734539   \n",
       "544 -0.624886  0.047278  -0.573527  0.224410  0.405623  -0.465315 -0.734539   \n",
       "\n",
       "     hotwaterheating  airconditioning   parking  furnishingstatus  \n",
       "0          -0.219265         1.472618  1.517692         -1.406286  \n",
       "1          -0.219265         1.472618  2.679409         -1.406286  \n",
       "2          -0.219265        -0.679063  1.517692         -0.091662  \n",
       "3          -0.219265         1.472618  2.679409         -1.406286  \n",
       "4          -0.219265         1.472618  1.517692         -1.406286  \n",
       "..               ...              ...       ...               ...  \n",
       "540        -0.219265        -0.679063  1.517692          1.222962  \n",
       "541        -0.219265        -0.679063 -0.805741         -0.091662  \n",
       "542        -0.219265        -0.679063 -0.805741          1.222962  \n",
       "543        -0.219265        -0.679063 -0.805741         -1.406286  \n",
       "544        -0.219265        -0.679063 -0.805741          1.222962  \n",
       "\n",
       "[545 rows x 11 columns]"
      ]
     },
     "execution_count": 51,
     "metadata": {},
     "output_type": "execute_result"
    }
   ],
   "source": [
    "x"
   ]
  },
  {
   "cell_type": "markdown",
   "id": "fb7e4425",
   "metadata": {},
   "source": [
    "# 10. Split data into training and testing "
   ]
  },
  {
   "cell_type": "code",
   "execution_count": 52,
   "id": "6b293fdd",
   "metadata": {},
   "outputs": [],
   "source": [
    "x_train,x_test,y_train,y_test=train_test_split(x,y,test_size=0.20,random_state=42)"
   ]
  },
  {
   "cell_type": "code",
   "execution_count": 53,
   "id": "def0a6e3",
   "metadata": {},
   "outputs": [
    {
     "data": {
      "text/html": [
       "<div>\n",
       "<style scoped>\n",
       "    .dataframe tbody tr th:only-of-type {\n",
       "        vertical-align: middle;\n",
       "    }\n",
       "\n",
       "    .dataframe tbody tr th {\n",
       "        vertical-align: top;\n",
       "    }\n",
       "\n",
       "    .dataframe thead th {\n",
       "        text-align: right;\n",
       "    }\n",
       "</style>\n",
       "<table border=\"1\" class=\"dataframe\">\n",
       "  <thead>\n",
       "    <tr style=\"text-align: right;\">\n",
       "      <th></th>\n",
       "      <th>area</th>\n",
       "      <th>bedrooms</th>\n",
       "      <th>bathrooms</th>\n",
       "      <th>stories</th>\n",
       "      <th>mainroad</th>\n",
       "      <th>guestroom</th>\n",
       "      <th>basement</th>\n",
       "      <th>hotwaterheating</th>\n",
       "      <th>airconditioning</th>\n",
       "      <th>parking</th>\n",
       "      <th>furnishingstatus</th>\n",
       "    </tr>\n",
       "  </thead>\n",
       "  <tbody>\n",
       "    <tr>\n",
       "      <th>46</th>\n",
       "      <td>0.447987</td>\n",
       "      <td>0.047278</td>\n",
       "      <td>1.436585</td>\n",
       "      <td>2.532024</td>\n",
       "      <td>0.405623</td>\n",
       "      <td>-0.465315</td>\n",
       "      <td>-0.734539</td>\n",
       "      <td>-0.219265</td>\n",
       "      <td>1.472618</td>\n",
       "      <td>0.355976</td>\n",
       "      <td>-1.406286</td>\n",
       "    </tr>\n",
       "    <tr>\n",
       "      <th>93</th>\n",
       "      <td>1.046801</td>\n",
       "      <td>0.047278</td>\n",
       "      <td>1.436585</td>\n",
       "      <td>-0.929397</td>\n",
       "      <td>0.405623</td>\n",
       "      <td>-0.465315</td>\n",
       "      <td>1.361397</td>\n",
       "      <td>-0.219265</td>\n",
       "      <td>1.472618</td>\n",
       "      <td>2.679409</td>\n",
       "      <td>-0.091662</td>\n",
       "    </tr>\n",
       "    <tr>\n",
       "      <th>335</th>\n",
       "      <td>-0.641853</td>\n",
       "      <td>-1.308863</td>\n",
       "      <td>-0.573527</td>\n",
       "      <td>-0.929397</td>\n",
       "      <td>0.405623</td>\n",
       "      <td>-0.465315</td>\n",
       "      <td>1.361397</td>\n",
       "      <td>-0.219265</td>\n",
       "      <td>1.472618</td>\n",
       "      <td>1.517692</td>\n",
       "      <td>-1.406286</td>\n",
       "    </tr>\n",
       "    <tr>\n",
       "      <th>412</th>\n",
       "      <td>-1.243660</td>\n",
       "      <td>0.047278</td>\n",
       "      <td>-0.573527</td>\n",
       "      <td>0.224410</td>\n",
       "      <td>0.405623</td>\n",
       "      <td>-0.465315</td>\n",
       "      <td>1.361397</td>\n",
       "      <td>-0.219265</td>\n",
       "      <td>-0.679063</td>\n",
       "      <td>-0.805741</td>\n",
       "      <td>1.222962</td>\n",
       "    </tr>\n",
       "    <tr>\n",
       "      <th>471</th>\n",
       "      <td>-0.674788</td>\n",
       "      <td>0.047278</td>\n",
       "      <td>-0.573527</td>\n",
       "      <td>0.224410</td>\n",
       "      <td>0.405623</td>\n",
       "      <td>-0.465315</td>\n",
       "      <td>-0.734539</td>\n",
       "      <td>-0.219265</td>\n",
       "      <td>-0.679063</td>\n",
       "      <td>-0.805741</td>\n",
       "      <td>1.222962</td>\n",
       "    </tr>\n",
       "  </tbody>\n",
       "</table>\n",
       "</div>"
      ],
      "text/plain": [
       "         area  bedrooms  bathrooms   stories  mainroad  guestroom  basement   \n",
       "46   0.447987  0.047278   1.436585  2.532024  0.405623  -0.465315 -0.734539  \\\n",
       "93   1.046801  0.047278   1.436585 -0.929397  0.405623  -0.465315  1.361397   \n",
       "335 -0.641853 -1.308863  -0.573527 -0.929397  0.405623  -0.465315  1.361397   \n",
       "412 -1.243660  0.047278  -0.573527  0.224410  0.405623  -0.465315  1.361397   \n",
       "471 -0.674788  0.047278  -0.573527  0.224410  0.405623  -0.465315 -0.734539   \n",
       "\n",
       "     hotwaterheating  airconditioning   parking  furnishingstatus  \n",
       "46         -0.219265         1.472618  0.355976         -1.406286  \n",
       "93         -0.219265         1.472618  2.679409         -0.091662  \n",
       "335        -0.219265         1.472618  1.517692         -1.406286  \n",
       "412        -0.219265        -0.679063 -0.805741          1.222962  \n",
       "471        -0.219265        -0.679063 -0.805741          1.222962  "
      ]
     },
     "execution_count": 53,
     "metadata": {},
     "output_type": "execute_result"
    }
   ],
   "source": [
    "x_train.head()"
   ]
  },
  {
   "cell_type": "code",
   "execution_count": 54,
   "id": "7b03e1ac",
   "metadata": {},
   "outputs": [
    {
     "data": {
      "text/html": [
       "<div>\n",
       "<style scoped>\n",
       "    .dataframe tbody tr th:only-of-type {\n",
       "        vertical-align: middle;\n",
       "    }\n",
       "\n",
       "    .dataframe tbody tr th {\n",
       "        vertical-align: top;\n",
       "    }\n",
       "\n",
       "    .dataframe thead th {\n",
       "        text-align: right;\n",
       "    }\n",
       "</style>\n",
       "<table border=\"1\" class=\"dataframe\">\n",
       "  <thead>\n",
       "    <tr style=\"text-align: right;\">\n",
       "      <th></th>\n",
       "      <th>area</th>\n",
       "      <th>bedrooms</th>\n",
       "      <th>bathrooms</th>\n",
       "      <th>stories</th>\n",
       "      <th>mainroad</th>\n",
       "      <th>guestroom</th>\n",
       "      <th>basement</th>\n",
       "      <th>hotwaterheating</th>\n",
       "      <th>airconditioning</th>\n",
       "      <th>parking</th>\n",
       "      <th>furnishingstatus</th>\n",
       "    </tr>\n",
       "  </thead>\n",
       "  <tbody>\n",
       "    <tr>\n",
       "      <th>316</th>\n",
       "      <td>0.398086</td>\n",
       "      <td>1.403419</td>\n",
       "      <td>1.436585</td>\n",
       "      <td>0.224410</td>\n",
       "      <td>-2.465344</td>\n",
       "      <td>-0.465315</td>\n",
       "      <td>1.361397</td>\n",
       "      <td>-0.219265</td>\n",
       "      <td>-0.679063</td>\n",
       "      <td>0.355976</td>\n",
       "      <td>1.222962</td>\n",
       "    </tr>\n",
       "    <tr>\n",
       "      <th>77</th>\n",
       "      <td>0.697493</td>\n",
       "      <td>0.047278</td>\n",
       "      <td>1.436585</td>\n",
       "      <td>1.378217</td>\n",
       "      <td>0.405623</td>\n",
       "      <td>-0.465315</td>\n",
       "      <td>-0.734539</td>\n",
       "      <td>-0.219265</td>\n",
       "      <td>1.472618</td>\n",
       "      <td>-0.805741</td>\n",
       "      <td>-1.406286</td>\n",
       "    </tr>\n",
       "    <tr>\n",
       "      <th>360</th>\n",
       "      <td>-0.530074</td>\n",
       "      <td>-1.308863</td>\n",
       "      <td>-0.573527</td>\n",
       "      <td>-0.929397</td>\n",
       "      <td>0.405623</td>\n",
       "      <td>-0.465315</td>\n",
       "      <td>-0.734539</td>\n",
       "      <td>-0.219265</td>\n",
       "      <td>-0.679063</td>\n",
       "      <td>-0.805741</td>\n",
       "      <td>-0.091662</td>\n",
       "    </tr>\n",
       "    <tr>\n",
       "      <th>90</th>\n",
       "      <td>-0.051024</td>\n",
       "      <td>0.047278</td>\n",
       "      <td>-0.573527</td>\n",
       "      <td>0.224410</td>\n",
       "      <td>0.405623</td>\n",
       "      <td>-0.465315</td>\n",
       "      <td>-0.734539</td>\n",
       "      <td>-0.219265</td>\n",
       "      <td>1.472618</td>\n",
       "      <td>-0.805741</td>\n",
       "      <td>-0.091662</td>\n",
       "    </tr>\n",
       "    <tr>\n",
       "      <th>493</th>\n",
       "      <td>-0.569995</td>\n",
       "      <td>0.047278</td>\n",
       "      <td>-0.573527</td>\n",
       "      <td>-0.929397</td>\n",
       "      <td>0.405623</td>\n",
       "      <td>-0.465315</td>\n",
       "      <td>-0.734539</td>\n",
       "      <td>-0.219265</td>\n",
       "      <td>-0.679063</td>\n",
       "      <td>-0.805741</td>\n",
       "      <td>-1.406286</td>\n",
       "    </tr>\n",
       "  </tbody>\n",
       "</table>\n",
       "</div>"
      ],
      "text/plain": [
       "         area  bedrooms  bathrooms   stories  mainroad  guestroom  basement   \n",
       "316  0.398086  1.403419   1.436585  0.224410 -2.465344  -0.465315  1.361397  \\\n",
       "77   0.697493  0.047278   1.436585  1.378217  0.405623  -0.465315 -0.734539   \n",
       "360 -0.530074 -1.308863  -0.573527 -0.929397  0.405623  -0.465315 -0.734539   \n",
       "90  -0.051024  0.047278  -0.573527  0.224410  0.405623  -0.465315 -0.734539   \n",
       "493 -0.569995  0.047278  -0.573527 -0.929397  0.405623  -0.465315 -0.734539   \n",
       "\n",
       "     hotwaterheating  airconditioning   parking  furnishingstatus  \n",
       "316        -0.219265        -0.679063  0.355976          1.222962  \n",
       "77         -0.219265         1.472618 -0.805741         -1.406286  \n",
       "360        -0.219265        -0.679063 -0.805741         -0.091662  \n",
       "90         -0.219265         1.472618 -0.805741         -0.091662  \n",
       "493        -0.219265        -0.679063 -0.805741         -1.406286  "
      ]
     },
     "execution_count": 54,
     "metadata": {},
     "output_type": "execute_result"
    }
   ],
   "source": [
    "x_test.head()"
   ]
  },
  {
   "cell_type": "code",
   "execution_count": 55,
   "id": "a9af6d58",
   "metadata": {},
   "outputs": [
    {
     "data": {
      "text/plain": [
       "46     7525000.0\n",
       "93     6300000.0\n",
       "335    3920000.0\n",
       "412    3430000.0\n",
       "471    3010000.0\n",
       "Name: price, dtype: float64"
      ]
     },
     "execution_count": 55,
     "metadata": {},
     "output_type": "execute_result"
    }
   ],
   "source": [
    "y_train.head()"
   ]
  },
  {
   "cell_type": "code",
   "execution_count": 56,
   "id": "4e73cb55",
   "metadata": {},
   "outputs": [
    {
     "data": {
      "text/plain": [
       "316    4060000.0\n",
       "77     6650000.0\n",
       "360    3710000.0\n",
       "90     6440000.0\n",
       "493    2800000.0\n",
       "Name: price, dtype: float64"
      ]
     },
     "execution_count": 56,
     "metadata": {},
     "output_type": "execute_result"
    }
   ],
   "source": [
    "y_test.head()"
   ]
  },
  {
   "cell_type": "code",
   "execution_count": 57,
   "id": "b477db6f",
   "metadata": {},
   "outputs": [
    {
     "name": "stdout",
     "output_type": "stream",
     "text": [
      "(436, 11)\n",
      "(109, 11)\n",
      "(436,)\n",
      "(109,)\n"
     ]
    }
   ],
   "source": [
    "print(x_train.shape)\n",
    "print(x_test.shape)\n",
    "print(y_train.shape)\n",
    "print(y_test.shape)"
   ]
  },
  {
   "cell_type": "markdown",
   "id": "5a8bf3ae",
   "metadata": {},
   "source": [
    "# 11. Model Building"
   ]
  },
  {
   "cell_type": "code",
   "execution_count": 58,
   "id": "fba57cbb",
   "metadata": {},
   "outputs": [],
   "source": [
    "r = Ridge()\n",
    "l = Lasso()\n",
    "lr = LinearRegression()"
   ]
  },
  {
   "cell_type": "markdown",
   "id": "0d6a1642",
   "metadata": {},
   "source": [
    "# 12. Train the model"
   ]
  },
  {
   "cell_type": "markdown",
   "id": "e4b6733f",
   "metadata": {},
   "source": [
    "# Using Ridge"
   ]
  },
  {
   "cell_type": "code",
   "execution_count": 59,
   "id": "72779afc",
   "metadata": {},
   "outputs": [
    {
     "data": {
      "text/html": [
       "<style>#sk-container-id-1 {color: black;background-color: white;}#sk-container-id-1 pre{padding: 0;}#sk-container-id-1 div.sk-toggleable {background-color: white;}#sk-container-id-1 label.sk-toggleable__label {cursor: pointer;display: block;width: 100%;margin-bottom: 0;padding: 0.3em;box-sizing: border-box;text-align: center;}#sk-container-id-1 label.sk-toggleable__label-arrow:before {content: \"▸\";float: left;margin-right: 0.25em;color: #696969;}#sk-container-id-1 label.sk-toggleable__label-arrow:hover:before {color: black;}#sk-container-id-1 div.sk-estimator:hover label.sk-toggleable__label-arrow:before {color: black;}#sk-container-id-1 div.sk-toggleable__content {max-height: 0;max-width: 0;overflow: hidden;text-align: left;background-color: #f0f8ff;}#sk-container-id-1 div.sk-toggleable__content pre {margin: 0.2em;color: black;border-radius: 0.25em;background-color: #f0f8ff;}#sk-container-id-1 input.sk-toggleable__control:checked~div.sk-toggleable__content {max-height: 200px;max-width: 100%;overflow: auto;}#sk-container-id-1 input.sk-toggleable__control:checked~label.sk-toggleable__label-arrow:before {content: \"▾\";}#sk-container-id-1 div.sk-estimator input.sk-toggleable__control:checked~label.sk-toggleable__label {background-color: #d4ebff;}#sk-container-id-1 div.sk-label input.sk-toggleable__control:checked~label.sk-toggleable__label {background-color: #d4ebff;}#sk-container-id-1 input.sk-hidden--visually {border: 0;clip: rect(1px 1px 1px 1px);clip: rect(1px, 1px, 1px, 1px);height: 1px;margin: -1px;overflow: hidden;padding: 0;position: absolute;width: 1px;}#sk-container-id-1 div.sk-estimator {font-family: monospace;background-color: #f0f8ff;border: 1px dotted black;border-radius: 0.25em;box-sizing: border-box;margin-bottom: 0.5em;}#sk-container-id-1 div.sk-estimator:hover {background-color: #d4ebff;}#sk-container-id-1 div.sk-parallel-item::after {content: \"\";width: 100%;border-bottom: 1px solid gray;flex-grow: 1;}#sk-container-id-1 div.sk-label:hover label.sk-toggleable__label {background-color: #d4ebff;}#sk-container-id-1 div.sk-serial::before {content: \"\";position: absolute;border-left: 1px solid gray;box-sizing: border-box;top: 0;bottom: 0;left: 50%;z-index: 0;}#sk-container-id-1 div.sk-serial {display: flex;flex-direction: column;align-items: center;background-color: white;padding-right: 0.2em;padding-left: 0.2em;position: relative;}#sk-container-id-1 div.sk-item {position: relative;z-index: 1;}#sk-container-id-1 div.sk-parallel {display: flex;align-items: stretch;justify-content: center;background-color: white;position: relative;}#sk-container-id-1 div.sk-item::before, #sk-container-id-1 div.sk-parallel-item::before {content: \"\";position: absolute;border-left: 1px solid gray;box-sizing: border-box;top: 0;bottom: 0;left: 50%;z-index: -1;}#sk-container-id-1 div.sk-parallel-item {display: flex;flex-direction: column;z-index: 1;position: relative;background-color: white;}#sk-container-id-1 div.sk-parallel-item:first-child::after {align-self: flex-end;width: 50%;}#sk-container-id-1 div.sk-parallel-item:last-child::after {align-self: flex-start;width: 50%;}#sk-container-id-1 div.sk-parallel-item:only-child::after {width: 0;}#sk-container-id-1 div.sk-dashed-wrapped {border: 1px dashed gray;margin: 0 0.4em 0.5em 0.4em;box-sizing: border-box;padding-bottom: 0.4em;background-color: white;}#sk-container-id-1 div.sk-label label {font-family: monospace;font-weight: bold;display: inline-block;line-height: 1.2em;}#sk-container-id-1 div.sk-label-container {text-align: center;}#sk-container-id-1 div.sk-container {/* jupyter's `normalize.less` sets `[hidden] { display: none; }` but bootstrap.min.css set `[hidden] { display: none !important; }` so we also need the `!important` here to be able to override the default hidden behavior on the sphinx rendered scikit-learn.org. See: https://github.com/scikit-learn/scikit-learn/issues/21755 */display: inline-block !important;position: relative;}#sk-container-id-1 div.sk-text-repr-fallback {display: none;}</style><div id=\"sk-container-id-1\" class=\"sk-top-container\"><div class=\"sk-text-repr-fallback\"><pre>Ridge()</pre><b>In a Jupyter environment, please rerun this cell to show the HTML representation or trust the notebook. <br />On GitHub, the HTML representation is unable to render, please try loading this page with nbviewer.org.</b></div><div class=\"sk-container\" hidden><div class=\"sk-item\"><div class=\"sk-estimator sk-toggleable\"><input class=\"sk-toggleable__control sk-hidden--visually\" id=\"sk-estimator-id-1\" type=\"checkbox\" checked><label for=\"sk-estimator-id-1\" class=\"sk-toggleable__label sk-toggleable__label-arrow\">Ridge</label><div class=\"sk-toggleable__content\"><pre>Ridge()</pre></div></div></div></div></div>"
      ],
      "text/plain": [
       "Ridge()"
      ]
     },
     "execution_count": 59,
     "metadata": {},
     "output_type": "execute_result"
    }
   ],
   "source": [
    "r.fit(x_train,y_train)"
   ]
  },
  {
   "cell_type": "code",
   "execution_count": 60,
   "id": "3e1713a9",
   "metadata": {},
   "outputs": [
    {
     "data": {
      "text/plain": [
       "array([5224811.59049057, 6687647.5628037 , 3210153.75050149,\n",
       "       4715544.26511953, 3492579.28349899, 3839870.67796606,\n",
       "       5837239.32391773, 5964600.5567343 , 2746342.36341487,\n",
       "       2658124.16429706, 8869484.76622029, 2977976.98715879,\n",
       "       3171768.70993201, 3424304.36781348, 3949023.11478736,\n",
       "       5094393.18843606, 3052620.61470549, 4963787.81443393,\n",
       "       4640820.67137851, 3745424.29069625, 5316948.11388848,\n",
       "       5544818.7732223 , 2900144.28105904, 4350844.06045795,\n",
       "       5456646.85006542, 7104497.31060538, 3477940.21161735,\n",
       "       5320092.24857755, 7238141.58478046, 3528946.28770845,\n",
       "       5862675.48150426, 3434680.68127653, 6820971.63418002,\n",
       "       4414009.11062307, 3809326.62906707, 5744324.0088518 ,\n",
       "       4963487.55599281, 4576908.32268194, 3207270.23001002,\n",
       "       4632510.1200444 , 4743951.21380354, 3637542.58971409,\n",
       "       6665799.7856529 , 4136082.59004818, 3950247.20148506,\n",
       "       4431751.60169965, 6747455.67854285, 4154061.75729016,\n",
       "       4102045.12156779, 3540238.37084823, 7303795.19823736,\n",
       "       2901278.98247032, 4610409.61232292, 4549227.62368096,\n",
       "       3959945.88557071, 2715474.57931792, 6924200.38844475,\n",
       "       3059675.89337207, 4469992.92177996, 2941381.96043119,\n",
       "       4752268.16399453, 3456596.3384224 , 5143298.60139564,\n",
       "       4461346.47967696, 4224793.23504631, 4678666.62861503,\n",
       "       6731495.05336369, 3684118.81683383, 6133598.77495372,\n",
       "       5797562.45275136, 4112445.44153844, 4743954.50250444,\n",
       "       4782460.85738552, 7619825.44562281, 3557567.418453  ,\n",
       "       5519154.33618271, 3955563.512778  , 4164391.24737829,\n",
       "       4970659.55012012, 3704307.16019087, 7107208.39141462,\n",
       "       4078457.25925128, 5959999.69008509, 5085970.77517664,\n",
       "       2868507.84330251, 6860021.71540795, 2769329.59757654,\n",
       "       3728031.22064148, 7396691.43866281, 8041194.18564583,\n",
       "       3300042.89968417, 6260966.11300911, 3798449.28140233,\n",
       "       3790967.06517051, 7632000.55754111, 4934663.87513609,\n",
       "       5369169.49610043, 6489607.77704795, 4484237.23306259,\n",
       "       5531600.75315798, 3849055.59916781, 6395799.93958574,\n",
       "       3818154.94573901, 5888564.11164545, 5164433.35723178,\n",
       "       4492330.20777315, 7026875.32362048, 6396532.78755978,\n",
       "       5853985.34014728])"
      ]
     },
     "execution_count": 60,
     "metadata": {},
     "output_type": "execute_result"
    }
   ],
   "source": [
    "pred1=r.predict(x_test)\n",
    "pred1"
   ]
  },
  {
   "cell_type": "code",
   "execution_count": 61,
   "id": "b7e0c4b9",
   "metadata": {},
   "outputs": [
    {
     "data": {
      "text/plain": [
       "1341433520804.8838"
      ]
     },
     "execution_count": 61,
     "metadata": {},
     "output_type": "execute_result"
    }
   ],
   "source": [
    "metrics.mean_squared_error(y_test,pred1)"
   ]
  },
  {
   "cell_type": "code",
   "execution_count": 62,
   "id": "8d762067",
   "metadata": {},
   "outputs": [
    {
     "data": {
      "text/plain": [
       "1158202.7114477344"
      ]
     },
     "execution_count": 62,
     "metadata": {},
     "output_type": "execute_result"
    }
   ],
   "source": [
    "np.sqrt(metrics.mean_squared_error(y_test,pred1))"
   ]
  },
  {
   "cell_type": "code",
   "execution_count": 63,
   "id": "1b8a333b",
   "metadata": {},
   "outputs": [
    {
     "data": {
      "text/plain": [
       "0.6679531131860819"
      ]
     },
     "execution_count": 63,
     "metadata": {},
     "output_type": "execute_result"
    }
   ],
   "source": [
    "metrics.r2_score(y_test,pred1)"
   ]
  },
  {
   "cell_type": "markdown",
   "id": "a4923d42",
   "metadata": {},
   "source": [
    "# Using Lasso"
   ]
  },
  {
   "cell_type": "code",
   "execution_count": 64,
   "id": "ffbdfaff",
   "metadata": {},
   "outputs": [
    {
     "data": {
      "text/html": [
       "<style>#sk-container-id-2 {color: black;background-color: white;}#sk-container-id-2 pre{padding: 0;}#sk-container-id-2 div.sk-toggleable {background-color: white;}#sk-container-id-2 label.sk-toggleable__label {cursor: pointer;display: block;width: 100%;margin-bottom: 0;padding: 0.3em;box-sizing: border-box;text-align: center;}#sk-container-id-2 label.sk-toggleable__label-arrow:before {content: \"▸\";float: left;margin-right: 0.25em;color: #696969;}#sk-container-id-2 label.sk-toggleable__label-arrow:hover:before {color: black;}#sk-container-id-2 div.sk-estimator:hover label.sk-toggleable__label-arrow:before {color: black;}#sk-container-id-2 div.sk-toggleable__content {max-height: 0;max-width: 0;overflow: hidden;text-align: left;background-color: #f0f8ff;}#sk-container-id-2 div.sk-toggleable__content pre {margin: 0.2em;color: black;border-radius: 0.25em;background-color: #f0f8ff;}#sk-container-id-2 input.sk-toggleable__control:checked~div.sk-toggleable__content {max-height: 200px;max-width: 100%;overflow: auto;}#sk-container-id-2 input.sk-toggleable__control:checked~label.sk-toggleable__label-arrow:before {content: \"▾\";}#sk-container-id-2 div.sk-estimator input.sk-toggleable__control:checked~label.sk-toggleable__label {background-color: #d4ebff;}#sk-container-id-2 div.sk-label input.sk-toggleable__control:checked~label.sk-toggleable__label {background-color: #d4ebff;}#sk-container-id-2 input.sk-hidden--visually {border: 0;clip: rect(1px 1px 1px 1px);clip: rect(1px, 1px, 1px, 1px);height: 1px;margin: -1px;overflow: hidden;padding: 0;position: absolute;width: 1px;}#sk-container-id-2 div.sk-estimator {font-family: monospace;background-color: #f0f8ff;border: 1px dotted black;border-radius: 0.25em;box-sizing: border-box;margin-bottom: 0.5em;}#sk-container-id-2 div.sk-estimator:hover {background-color: #d4ebff;}#sk-container-id-2 div.sk-parallel-item::after {content: \"\";width: 100%;border-bottom: 1px solid gray;flex-grow: 1;}#sk-container-id-2 div.sk-label:hover label.sk-toggleable__label {background-color: #d4ebff;}#sk-container-id-2 div.sk-serial::before {content: \"\";position: absolute;border-left: 1px solid gray;box-sizing: border-box;top: 0;bottom: 0;left: 50%;z-index: 0;}#sk-container-id-2 div.sk-serial {display: flex;flex-direction: column;align-items: center;background-color: white;padding-right: 0.2em;padding-left: 0.2em;position: relative;}#sk-container-id-2 div.sk-item {position: relative;z-index: 1;}#sk-container-id-2 div.sk-parallel {display: flex;align-items: stretch;justify-content: center;background-color: white;position: relative;}#sk-container-id-2 div.sk-item::before, #sk-container-id-2 div.sk-parallel-item::before {content: \"\";position: absolute;border-left: 1px solid gray;box-sizing: border-box;top: 0;bottom: 0;left: 50%;z-index: -1;}#sk-container-id-2 div.sk-parallel-item {display: flex;flex-direction: column;z-index: 1;position: relative;background-color: white;}#sk-container-id-2 div.sk-parallel-item:first-child::after {align-self: flex-end;width: 50%;}#sk-container-id-2 div.sk-parallel-item:last-child::after {align-self: flex-start;width: 50%;}#sk-container-id-2 div.sk-parallel-item:only-child::after {width: 0;}#sk-container-id-2 div.sk-dashed-wrapped {border: 1px dashed gray;margin: 0 0.4em 0.5em 0.4em;box-sizing: border-box;padding-bottom: 0.4em;background-color: white;}#sk-container-id-2 div.sk-label label {font-family: monospace;font-weight: bold;display: inline-block;line-height: 1.2em;}#sk-container-id-2 div.sk-label-container {text-align: center;}#sk-container-id-2 div.sk-container {/* jupyter's `normalize.less` sets `[hidden] { display: none; }` but bootstrap.min.css set `[hidden] { display: none !important; }` so we also need the `!important` here to be able to override the default hidden behavior on the sphinx rendered scikit-learn.org. See: https://github.com/scikit-learn/scikit-learn/issues/21755 */display: inline-block !important;position: relative;}#sk-container-id-2 div.sk-text-repr-fallback {display: none;}</style><div id=\"sk-container-id-2\" class=\"sk-top-container\"><div class=\"sk-text-repr-fallback\"><pre>Lasso()</pre><b>In a Jupyter environment, please rerun this cell to show the HTML representation or trust the notebook. <br />On GitHub, the HTML representation is unable to render, please try loading this page with nbviewer.org.</b></div><div class=\"sk-container\" hidden><div class=\"sk-item\"><div class=\"sk-estimator sk-toggleable\"><input class=\"sk-toggleable__control sk-hidden--visually\" id=\"sk-estimator-id-2\" type=\"checkbox\" checked><label for=\"sk-estimator-id-2\" class=\"sk-toggleable__label sk-toggleable__label-arrow\">Lasso</label><div class=\"sk-toggleable__content\"><pre>Lasso()</pre></div></div></div></div></div>"
      ],
      "text/plain": [
       "Lasso()"
      ]
     },
     "execution_count": 64,
     "metadata": {},
     "output_type": "execute_result"
    }
   ],
   "source": [
    "l.fit(x_train,y_train)"
   ]
  },
  {
   "cell_type": "code",
   "execution_count": 65,
   "id": "d4497d6f",
   "metadata": {},
   "outputs": [
    {
     "data": {
      "text/plain": [
       "array([5226860.98984774, 6691161.01097139, 3208792.62103933,\n",
       "       4715338.96117862, 3490114.59968586, 3839123.43328653,\n",
       "       5837567.35409675, 5965096.67826498, 2743516.99681107,\n",
       "       2655169.28144664, 8875509.93045669, 2976589.82610292,\n",
       "       3171199.53893324, 3424027.21308212, 3949041.03642986,\n",
       "       5095892.82825977, 3050962.57068117, 4963911.14174827,\n",
       "       4641654.08857403, 3745230.12777151, 5318627.16415628,\n",
       "       5545286.02514681, 2898587.43354237, 4349475.76774718,\n",
       "       5457346.76335949, 7109381.9276961 , 3476554.1908688 ,\n",
       "       5320422.38503995, 7242050.98113967, 3527846.55491277,\n",
       "       5865304.65710348, 3432403.87223648, 6823206.22863173,\n",
       "       4414079.95327966, 3807320.18877714, 5745521.77084973,\n",
       "       4962282.04458558, 4576122.45217477, 3205539.32194768,\n",
       "       4631190.94461494, 4743309.40264187, 3636659.83978039,\n",
       "       6669265.60253335, 4134374.64366212, 3950499.58187821,\n",
       "       4431907.61897792, 6751626.19428967, 4151634.01964397,\n",
       "       4103108.5902405 , 3539172.24367795, 7308273.31631027,\n",
       "       2899031.88643875, 4610928.37206937, 4550469.42649002,\n",
       "       3958748.48495149, 2712644.72859652, 6926974.13841295,\n",
       "       3057274.242444  , 4468946.68170477, 2939915.01696919,\n",
       "       4753217.18943086, 3456241.96466431, 5143140.30147296,\n",
       "       4462740.40845211, 4223546.26235187, 4677948.36313398,\n",
       "       6737803.96564955, 3683559.20911852, 6134674.47480047,\n",
       "       5796715.13044284, 4114001.58096852, 4744791.20369545,\n",
       "       4783354.713519  , 7625066.06048886, 3555817.58885052,\n",
       "       5520267.66451158, 3953249.43363507, 4164176.95602498,\n",
       "       4969791.03444819, 3703659.86391327, 7109011.96223348,\n",
       "       4076411.10609909, 5960292.94161697, 5088513.93602605,\n",
       "       2865689.41861108, 6863829.59159709, 2766248.41982217,\n",
       "       3725913.81079942, 7399126.12403762, 8045184.52753781,\n",
       "       3297016.56619594, 6261821.79946047, 3797890.57351593,\n",
       "       3790075.08313245, 7634449.02217507, 4931647.48154305,\n",
       "       5368607.13112122, 6493696.29443855, 4484295.13808048,\n",
       "       5533156.0091145 , 3846509.31749959, 6395675.6238539 ,\n",
       "       3816973.27113316, 5892036.16553981, 5163996.32032999,\n",
       "       4491488.82959913, 7029723.15646829, 6397582.9389137 ,\n",
       "       5855616.9845042 ])"
      ]
     },
     "execution_count": 65,
     "metadata": {},
     "output_type": "execute_result"
    }
   ],
   "source": [
    "pred2=l.predict(x_test)\n",
    "pred2"
   ]
  },
  {
   "cell_type": "code",
   "execution_count": 66,
   "id": "577d0cd9",
   "metadata": {},
   "outputs": [
    {
     "data": {
      "text/plain": [
       "1340973223332.975"
      ]
     },
     "execution_count": 66,
     "metadata": {},
     "output_type": "execute_result"
    }
   ],
   "source": [
    "metrics.mean_squared_error(y_test,pred2)"
   ]
  },
  {
   "cell_type": "code",
   "execution_count": 67,
   "id": "777b9e3f",
   "metadata": {},
   "outputs": [
    {
     "data": {
      "text/plain": [
       "1158003.9824339875"
      ]
     },
     "execution_count": 67,
     "metadata": {},
     "output_type": "execute_result"
    }
   ],
   "source": [
    "np.sqrt(metrics.mean_squared_error(y_test,pred2))"
   ]
  },
  {
   "cell_type": "code",
   "execution_count": 68,
   "id": "c5016860",
   "metadata": {},
   "outputs": [
    {
     "data": {
      "text/plain": [
       "0.6680670512532205"
      ]
     },
     "execution_count": 68,
     "metadata": {},
     "output_type": "execute_result"
    }
   ],
   "source": [
    "metrics.r2_score(y_test,pred2)"
   ]
  },
  {
   "cell_type": "markdown",
   "id": "abb9f423",
   "metadata": {},
   "source": [
    "# Using Linear Regression"
   ]
  },
  {
   "cell_type": "code",
   "execution_count": 69,
   "id": "efd234ca",
   "metadata": {},
   "outputs": [
    {
     "data": {
      "text/html": [
       "<style>#sk-container-id-3 {color: black;background-color: white;}#sk-container-id-3 pre{padding: 0;}#sk-container-id-3 div.sk-toggleable {background-color: white;}#sk-container-id-3 label.sk-toggleable__label {cursor: pointer;display: block;width: 100%;margin-bottom: 0;padding: 0.3em;box-sizing: border-box;text-align: center;}#sk-container-id-3 label.sk-toggleable__label-arrow:before {content: \"▸\";float: left;margin-right: 0.25em;color: #696969;}#sk-container-id-3 label.sk-toggleable__label-arrow:hover:before {color: black;}#sk-container-id-3 div.sk-estimator:hover label.sk-toggleable__label-arrow:before {color: black;}#sk-container-id-3 div.sk-toggleable__content {max-height: 0;max-width: 0;overflow: hidden;text-align: left;background-color: #f0f8ff;}#sk-container-id-3 div.sk-toggleable__content pre {margin: 0.2em;color: black;border-radius: 0.25em;background-color: #f0f8ff;}#sk-container-id-3 input.sk-toggleable__control:checked~div.sk-toggleable__content {max-height: 200px;max-width: 100%;overflow: auto;}#sk-container-id-3 input.sk-toggleable__control:checked~label.sk-toggleable__label-arrow:before {content: \"▾\";}#sk-container-id-3 div.sk-estimator input.sk-toggleable__control:checked~label.sk-toggleable__label {background-color: #d4ebff;}#sk-container-id-3 div.sk-label input.sk-toggleable__control:checked~label.sk-toggleable__label {background-color: #d4ebff;}#sk-container-id-3 input.sk-hidden--visually {border: 0;clip: rect(1px 1px 1px 1px);clip: rect(1px, 1px, 1px, 1px);height: 1px;margin: -1px;overflow: hidden;padding: 0;position: absolute;width: 1px;}#sk-container-id-3 div.sk-estimator {font-family: monospace;background-color: #f0f8ff;border: 1px dotted black;border-radius: 0.25em;box-sizing: border-box;margin-bottom: 0.5em;}#sk-container-id-3 div.sk-estimator:hover {background-color: #d4ebff;}#sk-container-id-3 div.sk-parallel-item::after {content: \"\";width: 100%;border-bottom: 1px solid gray;flex-grow: 1;}#sk-container-id-3 div.sk-label:hover label.sk-toggleable__label {background-color: #d4ebff;}#sk-container-id-3 div.sk-serial::before {content: \"\";position: absolute;border-left: 1px solid gray;box-sizing: border-box;top: 0;bottom: 0;left: 50%;z-index: 0;}#sk-container-id-3 div.sk-serial {display: flex;flex-direction: column;align-items: center;background-color: white;padding-right: 0.2em;padding-left: 0.2em;position: relative;}#sk-container-id-3 div.sk-item {position: relative;z-index: 1;}#sk-container-id-3 div.sk-parallel {display: flex;align-items: stretch;justify-content: center;background-color: white;position: relative;}#sk-container-id-3 div.sk-item::before, #sk-container-id-3 div.sk-parallel-item::before {content: \"\";position: absolute;border-left: 1px solid gray;box-sizing: border-box;top: 0;bottom: 0;left: 50%;z-index: -1;}#sk-container-id-3 div.sk-parallel-item {display: flex;flex-direction: column;z-index: 1;position: relative;background-color: white;}#sk-container-id-3 div.sk-parallel-item:first-child::after {align-self: flex-end;width: 50%;}#sk-container-id-3 div.sk-parallel-item:last-child::after {align-self: flex-start;width: 50%;}#sk-container-id-3 div.sk-parallel-item:only-child::after {width: 0;}#sk-container-id-3 div.sk-dashed-wrapped {border: 1px dashed gray;margin: 0 0.4em 0.5em 0.4em;box-sizing: border-box;padding-bottom: 0.4em;background-color: white;}#sk-container-id-3 div.sk-label label {font-family: monospace;font-weight: bold;display: inline-block;line-height: 1.2em;}#sk-container-id-3 div.sk-label-container {text-align: center;}#sk-container-id-3 div.sk-container {/* jupyter's `normalize.less` sets `[hidden] { display: none; }` but bootstrap.min.css set `[hidden] { display: none !important; }` so we also need the `!important` here to be able to override the default hidden behavior on the sphinx rendered scikit-learn.org. See: https://github.com/scikit-learn/scikit-learn/issues/21755 */display: inline-block !important;position: relative;}#sk-container-id-3 div.sk-text-repr-fallback {display: none;}</style><div id=\"sk-container-id-3\" class=\"sk-top-container\"><div class=\"sk-text-repr-fallback\"><pre>LinearRegression()</pre><b>In a Jupyter environment, please rerun this cell to show the HTML representation or trust the notebook. <br />On GitHub, the HTML representation is unable to render, please try loading this page with nbviewer.org.</b></div><div class=\"sk-container\" hidden><div class=\"sk-item\"><div class=\"sk-estimator sk-toggleable\"><input class=\"sk-toggleable__control sk-hidden--visually\" id=\"sk-estimator-id-3\" type=\"checkbox\" checked><label for=\"sk-estimator-id-3\" class=\"sk-toggleable__label sk-toggleable__label-arrow\">LinearRegression</label><div class=\"sk-toggleable__content\"><pre>LinearRegression()</pre></div></div></div></div></div>"
      ],
      "text/plain": [
       "LinearRegression()"
      ]
     },
     "execution_count": 69,
     "metadata": {},
     "output_type": "execute_result"
    }
   ],
   "source": [
    "lr.fit(x_train,y_train)"
   ]
  },
  {
   "cell_type": "code",
   "execution_count": 70,
   "id": "4fc0e5c0",
   "metadata": {},
   "outputs": [],
   "source": [
    "pred3=lr.predict(x_test)"
   ]
  },
  {
   "cell_type": "code",
   "execution_count": 71,
   "id": "a2a85eb7",
   "metadata": {},
   "outputs": [
    {
     "data": {
      "text/plain": [
       "1340971672299.518"
      ]
     },
     "execution_count": 71,
     "metadata": {},
     "output_type": "execute_result"
    }
   ],
   "source": [
    "metrics.mean_squared_error(y_test,pred3)"
   ]
  },
  {
   "cell_type": "code",
   "execution_count": 72,
   "id": "b637e226",
   "metadata": {},
   "outputs": [
    {
     "data": {
      "text/plain": [
       "1158003.312732532"
      ]
     },
     "execution_count": 72,
     "metadata": {},
     "output_type": "execute_result"
    }
   ],
   "source": [
    "np.sqrt(metrics.mean_squared_error(y_test,pred3))"
   ]
  },
  {
   "cell_type": "code",
   "execution_count": 73,
   "id": "d1bea8c5",
   "metadata": {},
   "outputs": [
    {
     "data": {
      "text/plain": [
       "0.6680674351826683"
      ]
     },
     "execution_count": 73,
     "metadata": {},
     "output_type": "execute_result"
    }
   ],
   "source": [
    "metrics.r2_score(y_test,pred3)"
   ]
  },
  {
   "cell_type": "code",
   "execution_count": 74,
   "id": "98f85186",
   "metadata": {},
   "outputs": [
    {
     "data": {
      "text/plain": [
       "66.80674351826683"
      ]
     },
     "execution_count": 74,
     "metadata": {},
     "output_type": "execute_result"
    }
   ],
   "source": [
    "metrics.r2_score(y_test,pred3)*100"
   ]
  }
 ],
 "metadata": {
  "kernelspec": {
   "display_name": "Python 3 (ipykernel)",
   "language": "python",
   "name": "python3"
  },
  "language_info": {
   "codemirror_mode": {
    "name": "ipython",
    "version": 3
   },
   "file_extension": ".py",
   "mimetype": "text/x-python",
   "name": "python",
   "nbconvert_exporter": "python",
   "pygments_lexer": "ipython3",
   "version": "3.9.7"
  }
 },
 "nbformat": 4,
 "nbformat_minor": 5
}
